{
 "cells": [
  {
   "cell_type": "markdown",
   "id": "1344fcad",
   "metadata": {},
   "source": [
    "mathplotlib has two Api methods of visualization\n",
    "they are GLOBAL API and OBJECT-ORIENTED API"
   ]
  },
  {
   "cell_type": "markdown",
   "id": "47ca3199",
   "metadata": {},
   "source": []
  }
 ],
 "metadata": {
  "language_info": {
   "name": "python"
  }
 },
 "nbformat": 4,
 "nbformat_minor": 5
}
