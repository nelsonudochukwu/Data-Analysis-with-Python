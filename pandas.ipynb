{
 "cells": [
  {
   "cell_type": "code",
   "execution_count": 110,
   "id": "4a639d57",
   "metadata": {},
   "outputs": [],
   "source": [
    "import pandas as pd\n",
    "import numpy as np"
   ]
  },
  {
   "cell_type": "code",
   "execution_count": 111,
   "id": "a87376c3",
   "metadata": {},
   "outputs": [],
   "source": [
    "population = pd.Series([12345.6, 23456.7, 34567.8, 45678.9, 5678,1])"
   ]
  },
  {
   "cell_type": "code",
   "execution_count": 112,
   "id": "48b3e946",
   "metadata": {},
   "outputs": [
    {
     "data": {
      "text/plain": [
       "0    12345.6\n",
       "1    23456.7\n",
       "2    34567.8\n",
       "3    45678.9\n",
       "4     5678.0\n",
       "5        1.0\n",
       "dtype: float64"
      ]
     },
     "execution_count": 112,
     "metadata": {},
     "output_type": "execute_result"
    }
   ],
   "source": [
    "population"
   ]
  },
  {
   "cell_type": "code",
   "execution_count": 113,
   "id": "c7b286d2",
   "metadata": {},
   "outputs": [
    {
     "data": {
      "text/plain": [
       "0    12345.6\n",
       "1    23456.7\n",
       "2    34567.8\n",
       "3    45678.9\n",
       "4     5678.0\n",
       "5        1.0\n",
       "Name: Nigeria's Population, dtype: float64"
      ]
     },
     "execution_count": 113,
     "metadata": {},
     "output_type": "execute_result"
    }
   ],
   "source": [
    "population.name = \"Nigeria's Population\"\n",
    "population"
   ]
  },
  {
   "cell_type": "code",
   "execution_count": 114,
   "id": "d9e67611",
   "metadata": {},
   "outputs": [
    {
     "data": {
      "text/plain": [
       "array([1.23456e+04, 2.34567e+04, 3.45678e+04, 4.56789e+04, 5.67800e+03,\n",
       "       1.00000e+00])"
      ]
     },
     "execution_count": 114,
     "metadata": {},
     "output_type": "execute_result"
    }
   ],
   "source": [
    "population.values"
   ]
  },
  {
   "cell_type": "code",
   "execution_count": 115,
   "id": "5b2ece8a",
   "metadata": {},
   "outputs": [
    {
     "data": {
      "text/plain": [
       "Lagos       12345.6\n",
       "Abeokuta    23456.7\n",
       "Anambra     34567.8\n",
       "Osun        45678.9\n",
       "kogi         5678.0\n",
       "Delta           1.0\n",
       "Name: Nigeria's Population, dtype: float64"
      ]
     },
     "execution_count": 115,
     "metadata": {},
     "output_type": "execute_result"
    }
   ],
   "source": [
    "population.index = [\"Lagos\", \"Abeokuta\", \"Anambra\", \"Osun\", \"kogi\", \"Delta\"]\n",
    "population"
   ]
  },
  {
   "cell_type": "code",
   "execution_count": 116,
   "id": "8b3c4d72",
   "metadata": {},
   "outputs": [],
   "source": [
    "#  to find the numeric position of a pandas series , use \"iloc\" attribute "
   ]
  },
  {
   "cell_type": "code",
   "execution_count": 117,
   "id": "30e42e4c",
   "metadata": {},
   "outputs": [
    {
     "data": {
      "text/plain": [
       "Osun       45678.9\n",
       "Anambra    34567.8\n",
       "Name: Nigeria's Population, dtype: float64"
      ]
     },
     "execution_count": 117,
     "metadata": {},
     "output_type": "execute_result"
    }
   ],
   "source": [
    "population['Lagos']\n",
    "\n",
    "population[['Osun', 'Anambra']]"
   ]
  },
  {
   "cell_type": "code",
   "execution_count": 118,
   "id": "38b164b8",
   "metadata": {},
   "outputs": [
    {
     "data": {
      "text/plain": [
       "34567.8"
      ]
     },
     "execution_count": 118,
     "metadata": {},
     "output_type": "execute_result"
    }
   ],
   "source": [
    "population.iloc[2]"
   ]
  },
  {
   "cell_type": "code",
   "execution_count": 119,
   "id": "6073c5e6",
   "metadata": {},
   "outputs": [
    {
     "data": {
      "text/plain": [
       "Lagos    12345.6\n",
       "kogi      5678.0\n",
       "Name: Nigeria's Population, dtype: float64"
      ]
     },
     "execution_count": 119,
     "metadata": {},
     "output_type": "execute_result"
    }
   ],
   "source": [
    "population.iloc[[0, 4]]"
   ]
  },
  {
   "cell_type": "code",
   "execution_count": 120,
   "id": "c2e8ffc2",
   "metadata": {},
   "outputs": [
    {
     "data": {
      "text/plain": [
       "Lagos       12345.6\n",
       "Abeokuta    23456.7\n",
       "Anambra     34567.8\n",
       "Osun        45678.9\n",
       "kogi         5678.0\n",
       "Name: Nigeria's Population, dtype: float64"
      ]
     },
     "execution_count": 120,
     "metadata": {},
     "output_type": "execute_result"
    }
   ],
   "source": [
    "population['Lagos':'kogi']"
   ]
  },
  {
   "cell_type": "code",
   "execution_count": 121,
   "id": "7a7cb150",
   "metadata": {},
   "outputs": [
    {
     "data": {
      "text/plain": [
       "Lagos        True\n",
       "Abeokuta     True\n",
       "Anambra      True\n",
       "Osun         True\n",
       "kogi        False\n",
       "Delta       False\n",
       "Name: Nigeria's Population, dtype: bool"
      ]
     },
     "execution_count": 121,
     "metadata": {},
     "output_type": "execute_result"
    }
   ],
   "source": [
    "population>12000\n"
   ]
  },
  {
   "cell_type": "code",
   "execution_count": 122,
   "id": "b49c38bc",
   "metadata": {},
   "outputs": [
    {
     "data": {
      "text/plain": [
       "Lagos       12345.6\n",
       "Abeokuta    23456.7\n",
       "Anambra     34567.8\n",
       "Osun        45678.9\n",
       "Name: Nigeria's Population, dtype: float64"
      ]
     },
     "execution_count": 122,
     "metadata": {},
     "output_type": "execute_result"
    }
   ],
   "source": [
    "population[population>12000]"
   ]
  },
  {
   "cell_type": "code",
   "execution_count": 123,
   "id": "bc35d55c",
   "metadata": {},
   "outputs": [
    {
     "data": {
      "text/plain": [
       "20288.0"
      ]
     },
     "execution_count": 123,
     "metadata": {},
     "output_type": "execute_result"
    }
   ],
   "source": [
    "population.mean()"
   ]
  },
  {
   "cell_type": "code",
   "execution_count": 124,
   "id": "10c962e0",
   "metadata": {},
   "outputs": [
    {
     "data": {
      "text/plain": [
       "Abeokuta    23456.7\n",
       "Anambra     34567.8\n",
       "Osun        45678.9\n",
       "Name: Nigeria's Population, dtype: float64"
      ]
     },
     "execution_count": 124,
     "metadata": {},
     "output_type": "execute_result"
    }
   ],
   "source": [
    "population[population > population.mean()]"
   ]
  },
  {
   "cell_type": "code",
   "execution_count": 125,
   "id": "08372618",
   "metadata": {},
   "outputs": [
    {
     "data": {
      "text/plain": [
       "Lagos       False\n",
       "Abeokuta     True\n",
       "Anambra      True\n",
       "Osun         True\n",
       "kogi        False\n",
       "Delta       False\n",
       "Name: Nigeria's Population, dtype: bool"
      ]
     },
     "execution_count": 125,
     "metadata": {},
     "output_type": "execute_result"
    }
   ],
   "source": [
    "population > population.mean()"
   ]
  },
  {
   "cell_type": "code",
   "execution_count": 126,
   "id": "5b31d8f2",
   "metadata": {},
   "outputs": [
    {
     "data": {
      "text/plain": [
       "Abeokuta    23456.7\n",
       "Anambra     34567.8\n",
       "Osun        45678.9\n",
       "Name: Nigeria's Population, dtype: float64"
      ]
     },
     "execution_count": 126,
     "metadata": {},
     "output_type": "execute_result"
    }
   ],
   "source": [
    "population[(population > 25000) | (population>population.mean())]"
   ]
  },
  {
   "cell_type": "code",
   "execution_count": 127,
   "id": "b43ae962",
   "metadata": {},
   "outputs": [
    {
     "data": {
      "text/plain": [
       "Abeokuta    23456.7\n",
       "Name: Nigeria's Population, dtype: float64"
      ]
     },
     "execution_count": 127,
     "metadata": {},
     "output_type": "execute_result"
    }
   ],
   "source": [
    "population[(population > 20000) & (population<30000)]"
   ]
  },
  {
   "cell_type": "code",
   "execution_count": 128,
   "id": "6ce90c42",
   "metadata": {},
   "outputs": [
    {
     "data": {
      "text/plain": [
       "Lagos       30000.0\n",
       "Abeokuta    23456.7\n",
       "Anambra     34567.8\n",
       "Osun        45678.9\n",
       "kogi         5678.0\n",
       "Delta           1.0\n",
       "Name: Nigeria's Population, dtype: float64"
      ]
     },
     "execution_count": 128,
     "metadata": {},
     "output_type": "execute_result"
    }
   ],
   "source": [
    "population['Lagos']=30000\n",
    "population"
   ]
  },
  {
   "cell_type": "code",
   "execution_count": 129,
   "id": "84c9bb47",
   "metadata": {},
   "outputs": [
    {
     "data": {
      "text/plain": [
       "Lagos       30000.0\n",
       "Abeokuta    23456.7\n",
       "Anambra     34567.8\n",
       "Osun        40000.0\n",
       "kogi         5678.0\n",
       "Delta           1.0\n",
       "Name: Nigeria's Population, dtype: float64"
      ]
     },
     "execution_count": 129,
     "metadata": {},
     "output_type": "execute_result"
    }
   ],
   "source": [
    "population.iloc[-3]=40000\n",
    "population"
   ]
  },
  {
   "cell_type": "code",
   "execution_count": 130,
   "id": "0bb21c89",
   "metadata": {},
   "outputs": [
    {
     "data": {
      "text/html": [
       "<div>\n",
       "<style scoped>\n",
       "    .dataframe tbody tr th:only-of-type {\n",
       "        vertical-align: middle;\n",
       "    }\n",
       "\n",
       "    .dataframe tbody tr th {\n",
       "        vertical-align: top;\n",
       "    }\n",
       "\n",
       "    .dataframe thead th {\n",
       "        text-align: right;\n",
       "    }\n",
       "</style>\n",
       "<table border=\"1\" class=\"dataframe\">\n",
       "  <thead>\n",
       "    <tr style=\"text-align: right;\">\n",
       "      <th></th>\n",
       "      <th>Population</th>\n",
       "      <th>GDP</th>\n",
       "      <th>Surface Area</th>\n",
       "      <th>MDI</th>\n",
       "      <th>Continent</th>\n",
       "    </tr>\n",
       "  </thead>\n",
       "  <tbody>\n",
       "    <tr>\n",
       "      <th>0</th>\n",
       "      <td>12.34</td>\n",
       "      <td>1234567</td>\n",
       "      <td>123455</td>\n",
       "      <td>0.987</td>\n",
       "      <td>Africa</td>\n",
       "    </tr>\n",
       "    <tr>\n",
       "      <th>1</th>\n",
       "      <td>23.45</td>\n",
       "      <td>2345678</td>\n",
       "      <td>478389</td>\n",
       "      <td>0.876</td>\n",
       "      <td>Asia</td>\n",
       "    </tr>\n",
       "    <tr>\n",
       "      <th>2</th>\n",
       "      <td>34.56</td>\n",
       "      <td>3456789</td>\n",
       "      <td>463789</td>\n",
       "      <td>0.765</td>\n",
       "      <td>Antartica</td>\n",
       "    </tr>\n",
       "    <tr>\n",
       "      <th>3</th>\n",
       "      <td>45.67</td>\n",
       "      <td>4567890</td>\n",
       "      <td>897621</td>\n",
       "      <td>0.654</td>\n",
       "      <td>Australia</td>\n",
       "    </tr>\n",
       "    <tr>\n",
       "      <th>4</th>\n",
       "      <td>56.78</td>\n",
       "      <td>5678901</td>\n",
       "      <td>387414</td>\n",
       "      <td>0.543</td>\n",
       "      <td>North America</td>\n",
       "    </tr>\n",
       "    <tr>\n",
       "      <th>5</th>\n",
       "      <td>678.90</td>\n",
       "      <td>6789012</td>\n",
       "      <td>142409</td>\n",
       "      <td>0.432</td>\n",
       "      <td>South America</td>\n",
       "    </tr>\n",
       "    <tr>\n",
       "      <th>6</th>\n",
       "      <td>789.98</td>\n",
       "      <td>7890123</td>\n",
       "      <td>749652</td>\n",
       "      <td>0.321</td>\n",
       "      <td>Europe</td>\n",
       "    </tr>\n",
       "  </tbody>\n",
       "</table>\n",
       "</div>"
      ],
      "text/plain": [
       "   Population      GDP  Surface Area    MDI      Continent\n",
       "0       12.34  1234567        123455  0.987         Africa\n",
       "1       23.45  2345678        478389  0.876           Asia\n",
       "2       34.56  3456789        463789  0.765      Antartica\n",
       "3       45.67  4567890        897621  0.654      Australia\n",
       "4       56.78  5678901        387414  0.543  North America\n",
       "5      678.90  6789012        142409  0.432  South America\n",
       "6      789.98  7890123        749652  0.321         Europe"
      ]
     },
     "execution_count": 130,
     "metadata": {},
     "output_type": "execute_result"
    }
   ],
   "source": [
    "df = pd.DataFrame({\n",
    "    'Population': [12.34, 23.45, 34.56, 45.67, 56.78, 678.90, 789.98],\n",
    "    'GDP': [1234567, 2345678, 3456789, 4567890, 5678901, 6789012, 7890123],\n",
    "    'Surface Area': [123455, 478389, 463789, 897621, 387414, 142409, 749652],\n",
    "    'MDI': [0.987, 0.876, 0.765, 0.654, 0.543, 0.432, 0.321],\n",
    "    'Continent': ['Africa', 'Asia', 'Antartica', 'Australia', 'North America', 'South America', 'Europe'],\n",
    "    }, columns=['Population', 'GDP', 'Surface Area', 'MDI', 'Continent'])\n",
    "\n",
    "df"
   ]
  },
  {
   "cell_type": "code",
   "execution_count": 131,
   "id": "2c263a9a",
   "metadata": {},
   "outputs": [
    {
     "data": {
      "text/html": [
       "<div>\n",
       "<style scoped>\n",
       "    .dataframe tbody tr th:only-of-type {\n",
       "        vertical-align: middle;\n",
       "    }\n",
       "\n",
       "    .dataframe tbody tr th {\n",
       "        vertical-align: top;\n",
       "    }\n",
       "\n",
       "    .dataframe thead th {\n",
       "        text-align: right;\n",
       "    }\n",
       "</style>\n",
       "<table border=\"1\" class=\"dataframe\">\n",
       "  <thead>\n",
       "    <tr style=\"text-align: right;\">\n",
       "      <th></th>\n",
       "      <th>Population</th>\n",
       "      <th>GDP</th>\n",
       "      <th>Surface Area</th>\n",
       "      <th>MDI</th>\n",
       "      <th>Continent</th>\n",
       "    </tr>\n",
       "  </thead>\n",
       "  <tbody>\n",
       "    <tr>\n",
       "      <th>Nigeria</th>\n",
       "      <td>12.34</td>\n",
       "      <td>1234567</td>\n",
       "      <td>123455</td>\n",
       "      <td>0.987</td>\n",
       "      <td>Africa</td>\n",
       "    </tr>\n",
       "    <tr>\n",
       "      <th>Cyprus</th>\n",
       "      <td>23.45</td>\n",
       "      <td>2345678</td>\n",
       "      <td>478389</td>\n",
       "      <td>0.876</td>\n",
       "      <td>Asia</td>\n",
       "    </tr>\n",
       "    <tr>\n",
       "      <th>France</th>\n",
       "      <td>34.56</td>\n",
       "      <td>3456789</td>\n",
       "      <td>463789</td>\n",
       "      <td>0.765</td>\n",
       "      <td>Antartica</td>\n",
       "    </tr>\n",
       "    <tr>\n",
       "      <th>Fiji</th>\n",
       "      <td>45.67</td>\n",
       "      <td>4567890</td>\n",
       "      <td>897621</td>\n",
       "      <td>0.654</td>\n",
       "      <td>Australia</td>\n",
       "    </tr>\n",
       "    <tr>\n",
       "      <th>Canada</th>\n",
       "      <td>56.78</td>\n",
       "      <td>5678901</td>\n",
       "      <td>387414</td>\n",
       "      <td>0.543</td>\n",
       "      <td>North America</td>\n",
       "    </tr>\n",
       "    <tr>\n",
       "      <th>Chile</th>\n",
       "      <td>678.90</td>\n",
       "      <td>6789012</td>\n",
       "      <td>142409</td>\n",
       "      <td>0.432</td>\n",
       "      <td>South America</td>\n",
       "    </tr>\n",
       "    <tr>\n",
       "      <th>Italy</th>\n",
       "      <td>789.98</td>\n",
       "      <td>7890123</td>\n",
       "      <td>749652</td>\n",
       "      <td>0.321</td>\n",
       "      <td>Europe</td>\n",
       "    </tr>\n",
       "  </tbody>\n",
       "</table>\n",
       "</div>"
      ],
      "text/plain": [
       "         Population      GDP  Surface Area    MDI      Continent\n",
       "Nigeria       12.34  1234567        123455  0.987         Africa\n",
       "Cyprus        23.45  2345678        478389  0.876           Asia\n",
       "France        34.56  3456789        463789  0.765      Antartica\n",
       "Fiji          45.67  4567890        897621  0.654      Australia\n",
       "Canada        56.78  5678901        387414  0.543  North America\n",
       "Chile        678.90  6789012        142409  0.432  South America\n",
       "Italy        789.98  7890123        749652  0.321         Europe"
      ]
     },
     "execution_count": 131,
     "metadata": {},
     "output_type": "execute_result"
    }
   ],
   "source": [
    "df.index = ['Nigeria', 'Cyprus', 'France', 'Fiji', 'Canada', 'Chile', 'Italy' ]\n",
    "df"
   ]
  },
  {
   "cell_type": "code",
   "execution_count": 132,
   "id": "499f174e",
   "metadata": {},
   "outputs": [
    {
     "data": {
      "text/plain": [
       "Index(['Population', 'GDP', 'Surface Area', 'MDI', 'Continent'], dtype='object')"
      ]
     },
     "execution_count": 132,
     "metadata": {},
     "output_type": "execute_result"
    }
   ],
   "source": [
    "df.columns"
   ]
  },
  {
   "cell_type": "code",
   "execution_count": 133,
   "id": "c59d7d62",
   "metadata": {},
   "outputs": [
    {
     "data": {
      "text/plain": [
       "Index(['Nigeria', 'Cyprus', 'France', 'Fiji', 'Canada', 'Chile', 'Italy'], dtype='object')"
      ]
     },
     "execution_count": 133,
     "metadata": {},
     "output_type": "execute_result"
    }
   ],
   "source": [
    "df.index"
   ]
  },
  {
   "cell_type": "code",
   "execution_count": 134,
   "id": "bdd3205b",
   "metadata": {},
   "outputs": [
    {
     "name": "stdout",
     "output_type": "stream",
     "text": [
      "<class 'pandas.core.frame.DataFrame'>\n",
      "Index: 7 entries, Nigeria to Italy\n",
      "Data columns (total 5 columns):\n",
      " #   Column        Non-Null Count  Dtype  \n",
      "---  ------        --------------  -----  \n",
      " 0   Population    7 non-null      float64\n",
      " 1   GDP           7 non-null      int64  \n",
      " 2   Surface Area  7 non-null      int64  \n",
      " 3   MDI           7 non-null      float64\n",
      " 4   Continent     7 non-null      object \n",
      "dtypes: float64(2), int64(2), object(1)\n",
      "memory usage: 336.0+ bytes\n"
     ]
    }
   ],
   "source": [
    "df.info()"
   ]
  },
  {
   "cell_type": "code",
   "execution_count": 135,
   "id": "5c8246e0",
   "metadata": {},
   "outputs": [
    {
     "data": {
      "text/plain": [
       "35"
      ]
     },
     "execution_count": 135,
     "metadata": {},
     "output_type": "execute_result"
    }
   ],
   "source": [
    "df.size"
   ]
  },
  {
   "cell_type": "code",
   "execution_count": 136,
   "id": "a9474f0c",
   "metadata": {},
   "outputs": [
    {
     "data": {
      "text/plain": [
       "(7, 5)"
      ]
     },
     "execution_count": 136,
     "metadata": {},
     "output_type": "execute_result"
    }
   ],
   "source": [
    "df.shape"
   ]
  },
  {
   "cell_type": "code",
   "execution_count": 137,
   "id": "87f0752a",
   "metadata": {},
   "outputs": [
    {
     "data": {
      "text/html": [
       "<div>\n",
       "<style scoped>\n",
       "    .dataframe tbody tr th:only-of-type {\n",
       "        vertical-align: middle;\n",
       "    }\n",
       "\n",
       "    .dataframe tbody tr th {\n",
       "        vertical-align: top;\n",
       "    }\n",
       "\n",
       "    .dataframe thead th {\n",
       "        text-align: right;\n",
       "    }\n",
       "</style>\n",
       "<table border=\"1\" class=\"dataframe\">\n",
       "  <thead>\n",
       "    <tr style=\"text-align: right;\">\n",
       "      <th></th>\n",
       "      <th>Population</th>\n",
       "      <th>GDP</th>\n",
       "      <th>Surface Area</th>\n",
       "      <th>MDI</th>\n",
       "    </tr>\n",
       "  </thead>\n",
       "  <tbody>\n",
       "    <tr>\n",
       "      <th>count</th>\n",
       "      <td>7.000000</td>\n",
       "      <td>7.000000e+00</td>\n",
       "      <td>7.000000</td>\n",
       "      <td>7.000000</td>\n",
       "    </tr>\n",
       "    <tr>\n",
       "      <th>mean</th>\n",
       "      <td>234.525714</td>\n",
       "      <td>4.566137e+06</td>\n",
       "      <td>463247.000000</td>\n",
       "      <td>0.654000</td>\n",
       "    </tr>\n",
       "    <tr>\n",
       "      <th>std</th>\n",
       "      <td>343.308347</td>\n",
       "      <td>2.397525e+06</td>\n",
       "      <td>287252.629586</td>\n",
       "      <td>0.239787</td>\n",
       "    </tr>\n",
       "    <tr>\n",
       "      <th>min</th>\n",
       "      <td>12.340000</td>\n",
       "      <td>1.234567e+06</td>\n",
       "      <td>123455.000000</td>\n",
       "      <td>0.321000</td>\n",
       "    </tr>\n",
       "    <tr>\n",
       "      <th>25%</th>\n",
       "      <td>29.005000</td>\n",
       "      <td>2.901234e+06</td>\n",
       "      <td>264911.500000</td>\n",
       "      <td>0.487500</td>\n",
       "    </tr>\n",
       "    <tr>\n",
       "      <th>50%</th>\n",
       "      <td>45.670000</td>\n",
       "      <td>4.567890e+06</td>\n",
       "      <td>463789.000000</td>\n",
       "      <td>0.654000</td>\n",
       "    </tr>\n",
       "    <tr>\n",
       "      <th>75%</th>\n",
       "      <td>367.840000</td>\n",
       "      <td>6.233956e+06</td>\n",
       "      <td>614020.500000</td>\n",
       "      <td>0.820500</td>\n",
       "    </tr>\n",
       "    <tr>\n",
       "      <th>max</th>\n",
       "      <td>789.980000</td>\n",
       "      <td>7.890123e+06</td>\n",
       "      <td>897621.000000</td>\n",
       "      <td>0.987000</td>\n",
       "    </tr>\n",
       "  </tbody>\n",
       "</table>\n",
       "</div>"
      ],
      "text/plain": [
       "       Population           GDP   Surface Area       MDI\n",
       "count    7.000000  7.000000e+00       7.000000  7.000000\n",
       "mean   234.525714  4.566137e+06  463247.000000  0.654000\n",
       "std    343.308347  2.397525e+06  287252.629586  0.239787\n",
       "min     12.340000  1.234567e+06  123455.000000  0.321000\n",
       "25%     29.005000  2.901234e+06  264911.500000  0.487500\n",
       "50%     45.670000  4.567890e+06  463789.000000  0.654000\n",
       "75%    367.840000  6.233956e+06  614020.500000  0.820500\n",
       "max    789.980000  7.890123e+06  897621.000000  0.987000"
      ]
     },
     "execution_count": 137,
     "metadata": {},
     "output_type": "execute_result"
    }
   ],
   "source": [
    "df.describe()"
   ]
  },
  {
   "cell_type": "code",
   "execution_count": 138,
   "id": "c233a1ce",
   "metadata": {},
   "outputs": [
    {
     "data": {
      "text/plain": [
       "Population      float64\n",
       "GDP               int64\n",
       "Surface Area      int64\n",
       "MDI             float64\n",
       "Continent        object\n",
       "dtype: object"
      ]
     },
     "execution_count": 138,
     "metadata": {},
     "output_type": "execute_result"
    }
   ],
   "source": [
    "df.dtypes"
   ]
  },
  {
   "cell_type": "code",
   "execution_count": 139,
   "id": "9750747c",
   "metadata": {},
   "outputs": [
    {
     "data": {
      "text/plain": [
       "float64    2\n",
       "int64      2\n",
       "object     1\n",
       "dtype: int64"
      ]
     },
     "execution_count": 139,
     "metadata": {},
     "output_type": "execute_result"
    }
   ],
   "source": [
    "df.dtypes.value_counts()"
   ]
  },
  {
   "cell_type": "markdown",
   "id": "a535b619",
   "metadata": {},
   "source": [
    "'loc' allows selection of rows by index\n",
    "'iloc' allows selection of rows by index position\n",
    "(the above works with rows)\n",
    "\n",
    "\n",
    "but if you want to just show column by column with reference to the index, then you just do:\n",
    "df['column name']"
   ]
  },
  {
   "cell_type": "code",
   "execution_count": 140,
   "id": "38cebfeb",
   "metadata": {},
   "outputs": [
    {
     "data": {
      "text/html": [
       "<div>\n",
       "<style scoped>\n",
       "    .dataframe tbody tr th:only-of-type {\n",
       "        vertical-align: middle;\n",
       "    }\n",
       "\n",
       "    .dataframe tbody tr th {\n",
       "        vertical-align: top;\n",
       "    }\n",
       "\n",
       "    .dataframe thead th {\n",
       "        text-align: right;\n",
       "    }\n",
       "</style>\n",
       "<table border=\"1\" class=\"dataframe\">\n",
       "  <thead>\n",
       "    <tr style=\"text-align: right;\">\n",
       "      <th></th>\n",
       "      <th>Population</th>\n",
       "      <th>GDP</th>\n",
       "      <th>Surface Area</th>\n",
       "      <th>MDI</th>\n",
       "      <th>Continent</th>\n",
       "    </tr>\n",
       "  </thead>\n",
       "  <tbody>\n",
       "    <tr>\n",
       "      <th>Nigeria</th>\n",
       "      <td>12.34</td>\n",
       "      <td>1234567</td>\n",
       "      <td>123455</td>\n",
       "      <td>0.987</td>\n",
       "      <td>Africa</td>\n",
       "    </tr>\n",
       "    <tr>\n",
       "      <th>Cyprus</th>\n",
       "      <td>23.45</td>\n",
       "      <td>2345678</td>\n",
       "      <td>478389</td>\n",
       "      <td>0.876</td>\n",
       "      <td>Asia</td>\n",
       "    </tr>\n",
       "    <tr>\n",
       "      <th>France</th>\n",
       "      <td>34.56</td>\n",
       "      <td>3456789</td>\n",
       "      <td>463789</td>\n",
       "      <td>0.765</td>\n",
       "      <td>Antartica</td>\n",
       "    </tr>\n",
       "    <tr>\n",
       "      <th>Fiji</th>\n",
       "      <td>45.67</td>\n",
       "      <td>4567890</td>\n",
       "      <td>897621</td>\n",
       "      <td>0.654</td>\n",
       "      <td>Australia</td>\n",
       "    </tr>\n",
       "    <tr>\n",
       "      <th>Canada</th>\n",
       "      <td>56.78</td>\n",
       "      <td>5678901</td>\n",
       "      <td>387414</td>\n",
       "      <td>0.543</td>\n",
       "      <td>North America</td>\n",
       "    </tr>\n",
       "    <tr>\n",
       "      <th>Chile</th>\n",
       "      <td>678.90</td>\n",
       "      <td>6789012</td>\n",
       "      <td>142409</td>\n",
       "      <td>0.432</td>\n",
       "      <td>South America</td>\n",
       "    </tr>\n",
       "    <tr>\n",
       "      <th>Italy</th>\n",
       "      <td>789.98</td>\n",
       "      <td>7890123</td>\n",
       "      <td>749652</td>\n",
       "      <td>0.321</td>\n",
       "      <td>Europe</td>\n",
       "    </tr>\n",
       "  </tbody>\n",
       "</table>\n",
       "</div>"
      ],
      "text/plain": [
       "         Population      GDP  Surface Area    MDI      Continent\n",
       "Nigeria       12.34  1234567        123455  0.987         Africa\n",
       "Cyprus        23.45  2345678        478389  0.876           Asia\n",
       "France        34.56  3456789        463789  0.765      Antartica\n",
       "Fiji          45.67  4567890        897621  0.654      Australia\n",
       "Canada        56.78  5678901        387414  0.543  North America\n",
       "Chile        678.90  6789012        142409  0.432  South America\n",
       "Italy        789.98  7890123        749652  0.321         Europe"
      ]
     },
     "execution_count": 140,
     "metadata": {},
     "output_type": "execute_result"
    }
   ],
   "source": [
    "df"
   ]
  },
  {
   "cell_type": "code",
   "execution_count": 141,
   "id": "e5c3cf34",
   "metadata": {},
   "outputs": [
    {
     "data": {
      "text/plain": [
       "Population          34.56\n",
       "GDP               3456789\n",
       "Surface Area       463789\n",
       "MDI                 0.765\n",
       "Continent       Antartica\n",
       "Name: France, dtype: object"
      ]
     },
     "execution_count": 141,
     "metadata": {},
     "output_type": "execute_result"
    }
   ],
   "source": [
    "df.loc['France']\n"
   ]
  },
  {
   "cell_type": "code",
   "execution_count": 142,
   "id": "e6cf8abe",
   "metadata": {},
   "outputs": [
    {
     "data": {
      "text/plain": [
       "Population          45.67\n",
       "GDP               4567890\n",
       "Surface Area       897621\n",
       "MDI                 0.654\n",
       "Continent       Australia\n",
       "Name: Fiji, dtype: object"
      ]
     },
     "execution_count": 142,
     "metadata": {},
     "output_type": "execute_result"
    }
   ],
   "source": [
    "df.iloc[-4]"
   ]
  },
  {
   "cell_type": "code",
   "execution_count": 143,
   "id": "8b0fbb9d",
   "metadata": {},
   "outputs": [
    {
     "data": {
      "text/plain": [
       "Nigeria    0.987\n",
       "Cyprus     0.876\n",
       "France     0.765\n",
       "Fiji       0.654\n",
       "Canada     0.543\n",
       "Chile      0.432\n",
       "Italy      0.321\n",
       "Name: MDI, dtype: float64"
      ]
     },
     "execution_count": 143,
     "metadata": {},
     "output_type": "execute_result"
    }
   ],
   "source": [
    "df['MDI']"
   ]
  },
  {
   "cell_type": "code",
   "execution_count": 144,
   "id": "da84d901",
   "metadata": {},
   "outputs": [
    {
     "data": {
      "text/html": [
       "<div>\n",
       "<style scoped>\n",
       "    .dataframe tbody tr th:only-of-type {\n",
       "        vertical-align: middle;\n",
       "    }\n",
       "\n",
       "    .dataframe tbody tr th {\n",
       "        vertical-align: top;\n",
       "    }\n",
       "\n",
       "    .dataframe thead th {\n",
       "        text-align: right;\n",
       "    }\n",
       "</style>\n",
       "<table border=\"1\" class=\"dataframe\">\n",
       "  <thead>\n",
       "    <tr style=\"text-align: right;\">\n",
       "      <th></th>\n",
       "      <th>Population</th>\n",
       "      <th>GDP</th>\n",
       "      <th>Surface Area</th>\n",
       "      <th>MDI</th>\n",
       "      <th>Continent</th>\n",
       "    </tr>\n",
       "  </thead>\n",
       "  <tbody>\n",
       "    <tr>\n",
       "      <th>France</th>\n",
       "      <td>34.56</td>\n",
       "      <td>3456789</td>\n",
       "      <td>463789</td>\n",
       "      <td>0.765</td>\n",
       "      <td>Antartica</td>\n",
       "    </tr>\n",
       "    <tr>\n",
       "      <th>Fiji</th>\n",
       "      <td>45.67</td>\n",
       "      <td>4567890</td>\n",
       "      <td>897621</td>\n",
       "      <td>0.654</td>\n",
       "      <td>Australia</td>\n",
       "    </tr>\n",
       "    <tr>\n",
       "      <th>Canada</th>\n",
       "      <td>56.78</td>\n",
       "      <td>5678901</td>\n",
       "      <td>387414</td>\n",
       "      <td>0.543</td>\n",
       "      <td>North America</td>\n",
       "    </tr>\n",
       "    <tr>\n",
       "      <th>Chile</th>\n",
       "      <td>678.90</td>\n",
       "      <td>6789012</td>\n",
       "      <td>142409</td>\n",
       "      <td>0.432</td>\n",
       "      <td>South America</td>\n",
       "    </tr>\n",
       "  </tbody>\n",
       "</table>\n",
       "</div>"
      ],
      "text/plain": [
       "        Population      GDP  Surface Area    MDI      Continent\n",
       "France       34.56  3456789        463789  0.765      Antartica\n",
       "Fiji         45.67  4567890        897621  0.654      Australia\n",
       "Canada       56.78  5678901        387414  0.543  North America\n",
       "Chile       678.90  6789012        142409  0.432  South America"
      ]
     },
     "execution_count": 144,
     "metadata": {},
     "output_type": "execute_result"
    }
   ],
   "source": [
    "df.loc['France' : 'Chile']"
   ]
  },
  {
   "cell_type": "code",
   "execution_count": 145,
   "id": "567d5613",
   "metadata": {},
   "outputs": [
    {
     "data": {
      "text/html": [
       "<div>\n",
       "<style scoped>\n",
       "    .dataframe tbody tr th:only-of-type {\n",
       "        vertical-align: middle;\n",
       "    }\n",
       "\n",
       "    .dataframe tbody tr th {\n",
       "        vertical-align: top;\n",
       "    }\n",
       "\n",
       "    .dataframe thead th {\n",
       "        text-align: right;\n",
       "    }\n",
       "</style>\n",
       "<table border=\"1\" class=\"dataframe\">\n",
       "  <thead>\n",
       "    <tr style=\"text-align: right;\">\n",
       "      <th></th>\n",
       "      <th>Population</th>\n",
       "      <th>GDP</th>\n",
       "      <th>Surface Area</th>\n",
       "    </tr>\n",
       "  </thead>\n",
       "  <tbody>\n",
       "    <tr>\n",
       "      <th>France</th>\n",
       "      <td>34.56</td>\n",
       "      <td>3456789</td>\n",
       "      <td>463789</td>\n",
       "    </tr>\n",
       "    <tr>\n",
       "      <th>Fiji</th>\n",
       "      <td>45.67</td>\n",
       "      <td>4567890</td>\n",
       "      <td>897621</td>\n",
       "    </tr>\n",
       "    <tr>\n",
       "      <th>Canada</th>\n",
       "      <td>56.78</td>\n",
       "      <td>5678901</td>\n",
       "      <td>387414</td>\n",
       "    </tr>\n",
       "    <tr>\n",
       "      <th>Chile</th>\n",
       "      <td>678.90</td>\n",
       "      <td>6789012</td>\n",
       "      <td>142409</td>\n",
       "    </tr>\n",
       "  </tbody>\n",
       "</table>\n",
       "</div>"
      ],
      "text/plain": [
       "        Population      GDP  Surface Area\n",
       "France       34.56  3456789        463789\n",
       "Fiji         45.67  4567890        897621\n",
       "Canada       56.78  5678901        387414\n",
       "Chile       678.90  6789012        142409"
      ]
     },
     "execution_count": 145,
     "metadata": {},
     "output_type": "execute_result"
    }
   ],
   "source": [
    "df.loc['France' : 'Chile', 'Population':'Surface Area']"
   ]
  },
  {
   "cell_type": "code",
   "execution_count": 146,
   "id": "e4321be1",
   "metadata": {},
   "outputs": [
    {
     "data": {
      "text/html": [
       "<div>\n",
       "<style scoped>\n",
       "    .dataframe tbody tr th:only-of-type {\n",
       "        vertical-align: middle;\n",
       "    }\n",
       "\n",
       "    .dataframe tbody tr th {\n",
       "        vertical-align: top;\n",
       "    }\n",
       "\n",
       "    .dataframe thead th {\n",
       "        text-align: right;\n",
       "    }\n",
       "</style>\n",
       "<table border=\"1\" class=\"dataframe\">\n",
       "  <thead>\n",
       "    <tr style=\"text-align: right;\">\n",
       "      <th></th>\n",
       "      <th>Population</th>\n",
       "      <th>MDI</th>\n",
       "    </tr>\n",
       "  </thead>\n",
       "  <tbody>\n",
       "    <tr>\n",
       "      <th>France</th>\n",
       "      <td>34.56</td>\n",
       "      <td>0.765</td>\n",
       "    </tr>\n",
       "    <tr>\n",
       "      <th>Fiji</th>\n",
       "      <td>45.67</td>\n",
       "      <td>0.654</td>\n",
       "    </tr>\n",
       "    <tr>\n",
       "      <th>Canada</th>\n",
       "      <td>56.78</td>\n",
       "      <td>0.543</td>\n",
       "    </tr>\n",
       "    <tr>\n",
       "      <th>Chile</th>\n",
       "      <td>678.90</td>\n",
       "      <td>0.432</td>\n",
       "    </tr>\n",
       "  </tbody>\n",
       "</table>\n",
       "</div>"
      ],
      "text/plain": [
       "        Population    MDI\n",
       "France       34.56  0.765\n",
       "Fiji         45.67  0.654\n",
       "Canada       56.78  0.543\n",
       "Chile       678.90  0.432"
      ]
     },
     "execution_count": 146,
     "metadata": {},
     "output_type": "execute_result"
    }
   ],
   "source": [
    "df.loc['France' : 'Chile', ['Population', 'MDI']]"
   ]
  },
  {
   "cell_type": "code",
   "execution_count": 147,
   "id": "7a47ec31",
   "metadata": {},
   "outputs": [
    {
     "data": {
      "text/html": [
       "<div>\n",
       "<style scoped>\n",
       "    .dataframe tbody tr th:only-of-type {\n",
       "        vertical-align: middle;\n",
       "    }\n",
       "\n",
       "    .dataframe tbody tr th {\n",
       "        vertical-align: top;\n",
       "    }\n",
       "\n",
       "    .dataframe thead th {\n",
       "        text-align: right;\n",
       "    }\n",
       "</style>\n",
       "<table border=\"1\" class=\"dataframe\">\n",
       "  <thead>\n",
       "    <tr style=\"text-align: right;\">\n",
       "      <th></th>\n",
       "      <th>Population</th>\n",
       "      <th>GDP</th>\n",
       "      <th>Surface Area</th>\n",
       "      <th>MDI</th>\n",
       "      <th>Continent</th>\n",
       "    </tr>\n",
       "  </thead>\n",
       "  <tbody>\n",
       "    <tr>\n",
       "      <th>France</th>\n",
       "      <td>34.56</td>\n",
       "      <td>3456789</td>\n",
       "      <td>463789</td>\n",
       "      <td>0.765</td>\n",
       "      <td>Antartica</td>\n",
       "    </tr>\n",
       "    <tr>\n",
       "      <th>Fiji</th>\n",
       "      <td>45.67</td>\n",
       "      <td>4567890</td>\n",
       "      <td>897621</td>\n",
       "      <td>0.654</td>\n",
       "      <td>Australia</td>\n",
       "    </tr>\n",
       "    <tr>\n",
       "      <th>Canada</th>\n",
       "      <td>56.78</td>\n",
       "      <td>5678901</td>\n",
       "      <td>387414</td>\n",
       "      <td>0.543</td>\n",
       "      <td>North America</td>\n",
       "    </tr>\n",
       "    <tr>\n",
       "      <th>Chile</th>\n",
       "      <td>678.90</td>\n",
       "      <td>6789012</td>\n",
       "      <td>142409</td>\n",
       "      <td>0.432</td>\n",
       "      <td>South America</td>\n",
       "    </tr>\n",
       "  </tbody>\n",
       "</table>\n",
       "</div>"
      ],
      "text/plain": [
       "        Population      GDP  Surface Area    MDI      Continent\n",
       "France       34.56  3456789        463789  0.765      Antartica\n",
       "Fiji         45.67  4567890        897621  0.654      Australia\n",
       "Canada       56.78  5678901        387414  0.543  North America\n",
       "Chile       678.90  6789012        142409  0.432  South America"
      ]
     },
     "execution_count": 147,
     "metadata": {},
     "output_type": "execute_result"
    }
   ],
   "source": [
    "df.iloc[2 : 6]"
   ]
  },
  {
   "cell_type": "code",
   "execution_count": 148,
   "id": "6fa6e079",
   "metadata": {},
   "outputs": [
    {
     "data": {
      "text/html": [
       "<div>\n",
       "<style scoped>\n",
       "    .dataframe tbody tr th:only-of-type {\n",
       "        vertical-align: middle;\n",
       "    }\n",
       "\n",
       "    .dataframe tbody tr th {\n",
       "        vertical-align: top;\n",
       "    }\n",
       "\n",
       "    .dataframe thead th {\n",
       "        text-align: right;\n",
       "    }\n",
       "</style>\n",
       "<table border=\"1\" class=\"dataframe\">\n",
       "  <thead>\n",
       "    <tr style=\"text-align: right;\">\n",
       "      <th></th>\n",
       "      <th>Population</th>\n",
       "      <th>GDP</th>\n",
       "      <th>Surface Area</th>\n",
       "    </tr>\n",
       "  </thead>\n",
       "  <tbody>\n",
       "    <tr>\n",
       "      <th>France</th>\n",
       "      <td>34.56</td>\n",
       "      <td>3456789</td>\n",
       "      <td>463789</td>\n",
       "    </tr>\n",
       "    <tr>\n",
       "      <th>Fiji</th>\n",
       "      <td>45.67</td>\n",
       "      <td>4567890</td>\n",
       "      <td>897621</td>\n",
       "    </tr>\n",
       "    <tr>\n",
       "      <th>Canada</th>\n",
       "      <td>56.78</td>\n",
       "      <td>5678901</td>\n",
       "      <td>387414</td>\n",
       "    </tr>\n",
       "    <tr>\n",
       "      <th>Chile</th>\n",
       "      <td>678.90</td>\n",
       "      <td>6789012</td>\n",
       "      <td>142409</td>\n",
       "    </tr>\n",
       "  </tbody>\n",
       "</table>\n",
       "</div>"
      ],
      "text/plain": [
       "        Population      GDP  Surface Area\n",
       "France       34.56  3456789        463789\n",
       "Fiji         45.67  4567890        897621\n",
       "Canada       56.78  5678901        387414\n",
       "Chile       678.90  6789012        142409"
      ]
     },
     "execution_count": 148,
     "metadata": {},
     "output_type": "execute_result"
    }
   ],
   "source": [
    "df.iloc[2 : 6, 0 : 3]"
   ]
  },
  {
   "cell_type": "code",
   "execution_count": 149,
   "id": "daabbf8a",
   "metadata": {},
   "outputs": [
    {
     "data": {
      "text/html": [
       "<div>\n",
       "<style scoped>\n",
       "    .dataframe tbody tr th:only-of-type {\n",
       "        vertical-align: middle;\n",
       "    }\n",
       "\n",
       "    .dataframe tbody tr th {\n",
       "        vertical-align: top;\n",
       "    }\n",
       "\n",
       "    .dataframe thead th {\n",
       "        text-align: right;\n",
       "    }\n",
       "</style>\n",
       "<table border=\"1\" class=\"dataframe\">\n",
       "  <thead>\n",
       "    <tr style=\"text-align: right;\">\n",
       "      <th></th>\n",
       "      <th>Population</th>\n",
       "      <th>MDI</th>\n",
       "    </tr>\n",
       "  </thead>\n",
       "  <tbody>\n",
       "    <tr>\n",
       "      <th>France</th>\n",
       "      <td>34.56</td>\n",
       "      <td>0.765</td>\n",
       "    </tr>\n",
       "    <tr>\n",
       "      <th>Fiji</th>\n",
       "      <td>45.67</td>\n",
       "      <td>0.654</td>\n",
       "    </tr>\n",
       "    <tr>\n",
       "      <th>Canada</th>\n",
       "      <td>56.78</td>\n",
       "      <td>0.543</td>\n",
       "    </tr>\n",
       "    <tr>\n",
       "      <th>Chile</th>\n",
       "      <td>678.90</td>\n",
       "      <td>0.432</td>\n",
       "    </tr>\n",
       "  </tbody>\n",
       "</table>\n",
       "</div>"
      ],
      "text/plain": [
       "        Population    MDI\n",
       "France       34.56  0.765\n",
       "Fiji         45.67  0.654\n",
       "Canada       56.78  0.543\n",
       "Chile       678.90  0.432"
      ]
     },
     "execution_count": 149,
     "metadata": {},
     "output_type": "execute_result"
    }
   ],
   "source": [
    "df.iloc[2 : 6, [0 , 3]]"
   ]
  },
  {
   "cell_type": "code",
   "execution_count": 150,
   "id": "d4c20701",
   "metadata": {},
   "outputs": [
    {
     "data": {
      "text/html": [
       "<div>\n",
       "<style scoped>\n",
       "    .dataframe tbody tr th:only-of-type {\n",
       "        vertical-align: middle;\n",
       "    }\n",
       "\n",
       "    .dataframe tbody tr th {\n",
       "        vertical-align: top;\n",
       "    }\n",
       "\n",
       "    .dataframe thead th {\n",
       "        text-align: right;\n",
       "    }\n",
       "</style>\n",
       "<table border=\"1\" class=\"dataframe\">\n",
       "  <thead>\n",
       "    <tr style=\"text-align: right;\">\n",
       "      <th></th>\n",
       "      <th>Population</th>\n",
       "      <th>GDP</th>\n",
       "      <th>Surface Area</th>\n",
       "      <th>MDI</th>\n",
       "      <th>Continent</th>\n",
       "    </tr>\n",
       "  </thead>\n",
       "  <tbody>\n",
       "    <tr>\n",
       "      <th>Nigeria</th>\n",
       "      <td>12.34</td>\n",
       "      <td>1234567</td>\n",
       "      <td>123455</td>\n",
       "      <td>0.987</td>\n",
       "      <td>Africa</td>\n",
       "    </tr>\n",
       "    <tr>\n",
       "      <th>Cyprus</th>\n",
       "      <td>23.45</td>\n",
       "      <td>2345678</td>\n",
       "      <td>478389</td>\n",
       "      <td>0.876</td>\n",
       "      <td>Asia</td>\n",
       "    </tr>\n",
       "    <tr>\n",
       "      <th>Italy</th>\n",
       "      <td>789.98</td>\n",
       "      <td>7890123</td>\n",
       "      <td>749652</td>\n",
       "      <td>0.321</td>\n",
       "      <td>Europe</td>\n",
       "    </tr>\n",
       "  </tbody>\n",
       "</table>\n",
       "</div>"
      ],
      "text/plain": [
       "         Population      GDP  Surface Area    MDI Continent\n",
       "Nigeria       12.34  1234567        123455  0.987    Africa\n",
       "Cyprus        23.45  2345678        478389  0.876      Asia\n",
       "Italy        789.98  7890123        749652  0.321    Europe"
      ]
     },
     "execution_count": 150,
     "metadata": {},
     "output_type": "execute_result"
    }
   ],
   "source": [
    "df.iloc[[0, 1, -1]]"
   ]
  },
  {
   "cell_type": "code",
   "execution_count": 151,
   "id": "e6afa74f",
   "metadata": {},
   "outputs": [
    {
     "data": {
      "text/html": [
       "<div>\n",
       "<style scoped>\n",
       "    .dataframe tbody tr th:only-of-type {\n",
       "        vertical-align: middle;\n",
       "    }\n",
       "\n",
       "    .dataframe tbody tr th {\n",
       "        vertical-align: top;\n",
       "    }\n",
       "\n",
       "    .dataframe thead th {\n",
       "        text-align: right;\n",
       "    }\n",
       "</style>\n",
       "<table border=\"1\" class=\"dataframe\">\n",
       "  <thead>\n",
       "    <tr style=\"text-align: right;\">\n",
       "      <th></th>\n",
       "      <th>Population</th>\n",
       "      <th>GDP</th>\n",
       "      <th>Surface Area</th>\n",
       "      <th>MDI</th>\n",
       "      <th>Continent</th>\n",
       "    </tr>\n",
       "  </thead>\n",
       "  <tbody>\n",
       "    <tr>\n",
       "      <th>Nigeria</th>\n",
       "      <td>12.34</td>\n",
       "      <td>1234567</td>\n",
       "      <td>123455</td>\n",
       "      <td>0.987</td>\n",
       "      <td>Africa</td>\n",
       "    </tr>\n",
       "    <tr>\n",
       "      <th>Cyprus</th>\n",
       "      <td>23.45</td>\n",
       "      <td>2345678</td>\n",
       "      <td>478389</td>\n",
       "      <td>0.876</td>\n",
       "      <td>Asia</td>\n",
       "    </tr>\n",
       "    <tr>\n",
       "      <th>France</th>\n",
       "      <td>34.56</td>\n",
       "      <td>3456789</td>\n",
       "      <td>463789</td>\n",
       "      <td>0.765</td>\n",
       "      <td>Antartica</td>\n",
       "    </tr>\n",
       "    <tr>\n",
       "      <th>Fiji</th>\n",
       "      <td>45.67</td>\n",
       "      <td>4567890</td>\n",
       "      <td>897621</td>\n",
       "      <td>0.654</td>\n",
       "      <td>Australia</td>\n",
       "    </tr>\n",
       "    <tr>\n",
       "      <th>Canada</th>\n",
       "      <td>56.78</td>\n",
       "      <td>5678901</td>\n",
       "      <td>387414</td>\n",
       "      <td>0.543</td>\n",
       "      <td>North America</td>\n",
       "    </tr>\n",
       "    <tr>\n",
       "      <th>Chile</th>\n",
       "      <td>678.90</td>\n",
       "      <td>6789012</td>\n",
       "      <td>142409</td>\n",
       "      <td>0.432</td>\n",
       "      <td>South America</td>\n",
       "    </tr>\n",
       "    <tr>\n",
       "      <th>Italy</th>\n",
       "      <td>789.98</td>\n",
       "      <td>7890123</td>\n",
       "      <td>749652</td>\n",
       "      <td>0.321</td>\n",
       "      <td>Europe</td>\n",
       "    </tr>\n",
       "  </tbody>\n",
       "</table>\n",
       "</div>"
      ],
      "text/plain": [
       "         Population      GDP  Surface Area    MDI      Continent\n",
       "Nigeria       12.34  1234567        123455  0.987         Africa\n",
       "Cyprus        23.45  2345678        478389  0.876           Asia\n",
       "France        34.56  3456789        463789  0.765      Antartica\n",
       "Fiji          45.67  4567890        897621  0.654      Australia\n",
       "Canada        56.78  5678901        387414  0.543  North America\n",
       "Chile        678.90  6789012        142409  0.432  South America\n",
       "Italy        789.98  7890123        749652  0.321         Europe"
      ]
     },
     "execution_count": 151,
     "metadata": {},
     "output_type": "execute_result"
    }
   ],
   "source": [
    "df"
   ]
  },
  {
   "cell_type": "code",
   "execution_count": 152,
   "id": "fb0d7a03",
   "metadata": {},
   "outputs": [
    {
     "data": {
      "text/plain": [
       "Nigeria    False\n",
       "Cyprus     False\n",
       "France     False\n",
       "Fiji        True\n",
       "Canada      True\n",
       "Chile       True\n",
       "Italy       True\n",
       "Name: Population, dtype: bool"
      ]
     },
     "execution_count": 152,
     "metadata": {},
     "output_type": "execute_result"
    }
   ],
   "source": [
    "df['Population']>40"
   ]
  },
  {
   "cell_type": "code",
   "execution_count": 153,
   "id": "005e1b0d",
   "metadata": {},
   "outputs": [
    {
     "data": {
      "text/html": [
       "<div>\n",
       "<style scoped>\n",
       "    .dataframe tbody tr th:only-of-type {\n",
       "        vertical-align: middle;\n",
       "    }\n",
       "\n",
       "    .dataframe tbody tr th {\n",
       "        vertical-align: top;\n",
       "    }\n",
       "\n",
       "    .dataframe thead th {\n",
       "        text-align: right;\n",
       "    }\n",
       "</style>\n",
       "<table border=\"1\" class=\"dataframe\">\n",
       "  <thead>\n",
       "    <tr style=\"text-align: right;\">\n",
       "      <th></th>\n",
       "      <th>Population</th>\n",
       "      <th>GDP</th>\n",
       "      <th>Surface Area</th>\n",
       "      <th>MDI</th>\n",
       "      <th>Continent</th>\n",
       "    </tr>\n",
       "  </thead>\n",
       "  <tbody>\n",
       "    <tr>\n",
       "      <th>Fiji</th>\n",
       "      <td>45.67</td>\n",
       "      <td>4567890</td>\n",
       "      <td>897621</td>\n",
       "      <td>0.654</td>\n",
       "      <td>Australia</td>\n",
       "    </tr>\n",
       "    <tr>\n",
       "      <th>Canada</th>\n",
       "      <td>56.78</td>\n",
       "      <td>5678901</td>\n",
       "      <td>387414</td>\n",
       "      <td>0.543</td>\n",
       "      <td>North America</td>\n",
       "    </tr>\n",
       "    <tr>\n",
       "      <th>Chile</th>\n",
       "      <td>678.90</td>\n",
       "      <td>6789012</td>\n",
       "      <td>142409</td>\n",
       "      <td>0.432</td>\n",
       "      <td>South America</td>\n",
       "    </tr>\n",
       "    <tr>\n",
       "      <th>Italy</th>\n",
       "      <td>789.98</td>\n",
       "      <td>7890123</td>\n",
       "      <td>749652</td>\n",
       "      <td>0.321</td>\n",
       "      <td>Europe</td>\n",
       "    </tr>\n",
       "  </tbody>\n",
       "</table>\n",
       "</div>"
      ],
      "text/plain": [
       "        Population      GDP  Surface Area    MDI      Continent\n",
       "Fiji         45.67  4567890        897621  0.654      Australia\n",
       "Canada       56.78  5678901        387414  0.543  North America\n",
       "Chile       678.90  6789012        142409  0.432  South America\n",
       "Italy       789.98  7890123        749652  0.321         Europe"
      ]
     },
     "execution_count": 153,
     "metadata": {},
     "output_type": "execute_result"
    }
   ],
   "source": [
    "df.loc[df['Population']>40]"
   ]
  },
  {
   "cell_type": "code",
   "execution_count": 154,
   "id": "6668d4a9",
   "metadata": {},
   "outputs": [
    {
     "data": {
      "text/plain": [
       "Fiji       45.67\n",
       "Canada     56.78\n",
       "Chile     678.90\n",
       "Italy     789.98\n",
       "Name: Population, dtype: float64"
      ]
     },
     "execution_count": 154,
     "metadata": {},
     "output_type": "execute_result"
    }
   ],
   "source": [
    "df.loc[df['Population']>40, 'Population']"
   ]
  },
  {
   "cell_type": "code",
   "execution_count": 155,
   "id": "42aa6842",
   "metadata": {},
   "outputs": [
    {
     "data": {
      "text/html": [
       "<div>\n",
       "<style scoped>\n",
       "    .dataframe tbody tr th:only-of-type {\n",
       "        vertical-align: middle;\n",
       "    }\n",
       "\n",
       "    .dataframe tbody tr th {\n",
       "        vertical-align: top;\n",
       "    }\n",
       "\n",
       "    .dataframe thead th {\n",
       "        text-align: right;\n",
       "    }\n",
       "</style>\n",
       "<table border=\"1\" class=\"dataframe\">\n",
       "  <thead>\n",
       "    <tr style=\"text-align: right;\">\n",
       "      <th></th>\n",
       "      <th>Population</th>\n",
       "      <th>GDP</th>\n",
       "    </tr>\n",
       "  </thead>\n",
       "  <tbody>\n",
       "    <tr>\n",
       "      <th>Fiji</th>\n",
       "      <td>45.67</td>\n",
       "      <td>4567890</td>\n",
       "    </tr>\n",
       "    <tr>\n",
       "      <th>Canada</th>\n",
       "      <td>56.78</td>\n",
       "      <td>5678901</td>\n",
       "    </tr>\n",
       "    <tr>\n",
       "      <th>Chile</th>\n",
       "      <td>678.90</td>\n",
       "      <td>6789012</td>\n",
       "    </tr>\n",
       "    <tr>\n",
       "      <th>Italy</th>\n",
       "      <td>789.98</td>\n",
       "      <td>7890123</td>\n",
       "    </tr>\n",
       "  </tbody>\n",
       "</table>\n",
       "</div>"
      ],
      "text/plain": [
       "        Population      GDP\n",
       "Fiji         45.67  4567890\n",
       "Canada       56.78  5678901\n",
       "Chile       678.90  6789012\n",
       "Italy       789.98  7890123"
      ]
     },
     "execution_count": 155,
     "metadata": {},
     "output_type": "execute_result"
    }
   ],
   "source": [
    "df.loc[df['Population']>40, ['Population', 'GDP']]"
   ]
  },
  {
   "cell_type": "code",
   "execution_count": 156,
   "id": "eef51ea4",
   "metadata": {},
   "outputs": [
    {
     "data": {
      "text/html": [
       "<div>\n",
       "<style scoped>\n",
       "    .dataframe tbody tr th:only-of-type {\n",
       "        vertical-align: middle;\n",
       "    }\n",
       "\n",
       "    .dataframe tbody tr th {\n",
       "        vertical-align: top;\n",
       "    }\n",
       "\n",
       "    .dataframe thead th {\n",
       "        text-align: right;\n",
       "    }\n",
       "</style>\n",
       "<table border=\"1\" class=\"dataframe\">\n",
       "  <thead>\n",
       "    <tr style=\"text-align: right;\">\n",
       "      <th></th>\n",
       "      <th>Population</th>\n",
       "      <th>GDP</th>\n",
       "      <th>Surface Area</th>\n",
       "      <th>MDI</th>\n",
       "      <th>Continent</th>\n",
       "    </tr>\n",
       "  </thead>\n",
       "  <tbody>\n",
       "    <tr>\n",
       "      <th>Nigeria</th>\n",
       "      <td>12.34</td>\n",
       "      <td>1234567</td>\n",
       "      <td>123455</td>\n",
       "      <td>0.987</td>\n",
       "      <td>Africa</td>\n",
       "    </tr>\n",
       "    <tr>\n",
       "      <th>France</th>\n",
       "      <td>34.56</td>\n",
       "      <td>3456789</td>\n",
       "      <td>463789</td>\n",
       "      <td>0.765</td>\n",
       "      <td>Antartica</td>\n",
       "    </tr>\n",
       "    <tr>\n",
       "      <th>Fiji</th>\n",
       "      <td>45.67</td>\n",
       "      <td>4567890</td>\n",
       "      <td>897621</td>\n",
       "      <td>0.654</td>\n",
       "      <td>Australia</td>\n",
       "    </tr>\n",
       "    <tr>\n",
       "      <th>Canada</th>\n",
       "      <td>56.78</td>\n",
       "      <td>5678901</td>\n",
       "      <td>387414</td>\n",
       "      <td>0.543</td>\n",
       "      <td>North America</td>\n",
       "    </tr>\n",
       "    <tr>\n",
       "      <th>Chile</th>\n",
       "      <td>678.90</td>\n",
       "      <td>6789012</td>\n",
       "      <td>142409</td>\n",
       "      <td>0.432</td>\n",
       "      <td>South America</td>\n",
       "    </tr>\n",
       "  </tbody>\n",
       "</table>\n",
       "</div>"
      ],
      "text/plain": [
       "         Population      GDP  Surface Area    MDI      Continent\n",
       "Nigeria       12.34  1234567        123455  0.987         Africa\n",
       "France        34.56  3456789        463789  0.765      Antartica\n",
       "Fiji          45.67  4567890        897621  0.654      Australia\n",
       "Canada        56.78  5678901        387414  0.543  North America\n",
       "Chile        678.90  6789012        142409  0.432  South America"
      ]
     },
     "execution_count": 156,
     "metadata": {},
     "output_type": "execute_result"
    }
   ],
   "source": [
    "df.drop(['Cyprus', 'Italy'])"
   ]
  },
  {
   "cell_type": "code",
   "execution_count": 157,
   "id": "bac2aec0",
   "metadata": {},
   "outputs": [
    {
     "data": {
      "text/html": [
       "<div>\n",
       "<style scoped>\n",
       "    .dataframe tbody tr th:only-of-type {\n",
       "        vertical-align: middle;\n",
       "    }\n",
       "\n",
       "    .dataframe tbody tr th {\n",
       "        vertical-align: top;\n",
       "    }\n",
       "\n",
       "    .dataframe thead th {\n",
       "        text-align: right;\n",
       "    }\n",
       "</style>\n",
       "<table border=\"1\" class=\"dataframe\">\n",
       "  <thead>\n",
       "    <tr style=\"text-align: right;\">\n",
       "      <th></th>\n",
       "      <th>Population</th>\n",
       "      <th>Surface Area</th>\n",
       "      <th>Continent</th>\n",
       "    </tr>\n",
       "  </thead>\n",
       "  <tbody>\n",
       "    <tr>\n",
       "      <th>Nigeria</th>\n",
       "      <td>12.34</td>\n",
       "      <td>123455</td>\n",
       "      <td>Africa</td>\n",
       "    </tr>\n",
       "    <tr>\n",
       "      <th>Cyprus</th>\n",
       "      <td>23.45</td>\n",
       "      <td>478389</td>\n",
       "      <td>Asia</td>\n",
       "    </tr>\n",
       "    <tr>\n",
       "      <th>France</th>\n",
       "      <td>34.56</td>\n",
       "      <td>463789</td>\n",
       "      <td>Antartica</td>\n",
       "    </tr>\n",
       "    <tr>\n",
       "      <th>Fiji</th>\n",
       "      <td>45.67</td>\n",
       "      <td>897621</td>\n",
       "      <td>Australia</td>\n",
       "    </tr>\n",
       "    <tr>\n",
       "      <th>Canada</th>\n",
       "      <td>56.78</td>\n",
       "      <td>387414</td>\n",
       "      <td>North America</td>\n",
       "    </tr>\n",
       "    <tr>\n",
       "      <th>Chile</th>\n",
       "      <td>678.90</td>\n",
       "      <td>142409</td>\n",
       "      <td>South America</td>\n",
       "    </tr>\n",
       "    <tr>\n",
       "      <th>Italy</th>\n",
       "      <td>789.98</td>\n",
       "      <td>749652</td>\n",
       "      <td>Europe</td>\n",
       "    </tr>\n",
       "  </tbody>\n",
       "</table>\n",
       "</div>"
      ],
      "text/plain": [
       "         Population  Surface Area      Continent\n",
       "Nigeria       12.34        123455         Africa\n",
       "Cyprus        23.45        478389           Asia\n",
       "France        34.56        463789      Antartica\n",
       "Fiji          45.67        897621      Australia\n",
       "Canada        56.78        387414  North America\n",
       "Chile        678.90        142409  South America\n",
       "Italy        789.98        749652         Europe"
      ]
     },
     "execution_count": 157,
     "metadata": {},
     "output_type": "execute_result"
    }
   ],
   "source": [
    "df.drop(columns=['GDP', 'MDI'])"
   ]
  },
  {
   "cell_type": "code",
   "execution_count": 158,
   "id": "08e72d17",
   "metadata": {},
   "outputs": [
    {
     "data": {
      "text/html": [
       "<div>\n",
       "<style scoped>\n",
       "    .dataframe tbody tr th:only-of-type {\n",
       "        vertical-align: middle;\n",
       "    }\n",
       "\n",
       "    .dataframe tbody tr th {\n",
       "        vertical-align: top;\n",
       "    }\n",
       "\n",
       "    .dataframe thead th {\n",
       "        text-align: right;\n",
       "    }\n",
       "</style>\n",
       "<table border=\"1\" class=\"dataframe\">\n",
       "  <thead>\n",
       "    <tr style=\"text-align: right;\">\n",
       "      <th></th>\n",
       "      <th>Population</th>\n",
       "      <th>GDP</th>\n",
       "      <th>Surface Area</th>\n",
       "      <th>MDI</th>\n",
       "      <th>Continent</th>\n",
       "    </tr>\n",
       "  </thead>\n",
       "  <tbody>\n",
       "    <tr>\n",
       "      <th>Nigeria</th>\n",
       "      <td>12.34</td>\n",
       "      <td>1234567</td>\n",
       "      <td>123455</td>\n",
       "      <td>0.987</td>\n",
       "      <td>Africa</td>\n",
       "    </tr>\n",
       "    <tr>\n",
       "      <th>Cyprus</th>\n",
       "      <td>23.45</td>\n",
       "      <td>2345678</td>\n",
       "      <td>478389</td>\n",
       "      <td>0.876</td>\n",
       "      <td>Asia</td>\n",
       "    </tr>\n",
       "    <tr>\n",
       "      <th>Fiji</th>\n",
       "      <td>45.67</td>\n",
       "      <td>4567890</td>\n",
       "      <td>897621</td>\n",
       "      <td>0.654</td>\n",
       "      <td>Australia</td>\n",
       "    </tr>\n",
       "    <tr>\n",
       "      <th>Canada</th>\n",
       "      <td>56.78</td>\n",
       "      <td>5678901</td>\n",
       "      <td>387414</td>\n",
       "      <td>0.543</td>\n",
       "      <td>North America</td>\n",
       "    </tr>\n",
       "    <tr>\n",
       "      <th>Italy</th>\n",
       "      <td>789.98</td>\n",
       "      <td>7890123</td>\n",
       "      <td>749652</td>\n",
       "      <td>0.321</td>\n",
       "      <td>Europe</td>\n",
       "    </tr>\n",
       "  </tbody>\n",
       "</table>\n",
       "</div>"
      ],
      "text/plain": [
       "         Population      GDP  Surface Area    MDI      Continent\n",
       "Nigeria       12.34  1234567        123455  0.987         Africa\n",
       "Cyprus        23.45  2345678        478389  0.876           Asia\n",
       "Fiji          45.67  4567890        897621  0.654      Australia\n",
       "Canada        56.78  5678901        387414  0.543  North America\n",
       "Italy        789.98  7890123        749652  0.321         Europe"
      ]
     },
     "execution_count": 158,
     "metadata": {},
     "output_type": "execute_result"
    }
   ],
   "source": [
    "df.drop(['France', 'Chile'], axis='rows')"
   ]
  },
  {
   "cell_type": "code",
   "execution_count": 159,
   "id": "0aba329c",
   "metadata": {},
   "outputs": [
    {
     "data": {
      "text/html": [
       "<div>\n",
       "<style scoped>\n",
       "    .dataframe tbody tr th:only-of-type {\n",
       "        vertical-align: middle;\n",
       "    }\n",
       "\n",
       "    .dataframe tbody tr th {\n",
       "        vertical-align: top;\n",
       "    }\n",
       "\n",
       "    .dataframe thead th {\n",
       "        text-align: right;\n",
       "    }\n",
       "</style>\n",
       "<table border=\"1\" class=\"dataframe\">\n",
       "  <thead>\n",
       "    <tr style=\"text-align: right;\">\n",
       "      <th></th>\n",
       "      <th>Population</th>\n",
       "      <th>GDP</th>\n",
       "    </tr>\n",
       "  </thead>\n",
       "  <tbody>\n",
       "    <tr>\n",
       "      <th>Nigeria</th>\n",
       "      <td>0.1234</td>\n",
       "      <td>12345.67</td>\n",
       "    </tr>\n",
       "    <tr>\n",
       "      <th>Cyprus</th>\n",
       "      <td>0.2345</td>\n",
       "      <td>23456.78</td>\n",
       "    </tr>\n",
       "    <tr>\n",
       "      <th>France</th>\n",
       "      <td>0.3456</td>\n",
       "      <td>34567.89</td>\n",
       "    </tr>\n",
       "    <tr>\n",
       "      <th>Fiji</th>\n",
       "      <td>0.4567</td>\n",
       "      <td>45678.90</td>\n",
       "    </tr>\n",
       "    <tr>\n",
       "      <th>Canada</th>\n",
       "      <td>0.5678</td>\n",
       "      <td>56789.01</td>\n",
       "    </tr>\n",
       "    <tr>\n",
       "      <th>Chile</th>\n",
       "      <td>6.7890</td>\n",
       "      <td>67890.12</td>\n",
       "    </tr>\n",
       "    <tr>\n",
       "      <th>Italy</th>\n",
       "      <td>7.8998</td>\n",
       "      <td>78901.23</td>\n",
       "    </tr>\n",
       "  </tbody>\n",
       "</table>\n",
       "</div>"
      ],
      "text/plain": [
       "         Population       GDP\n",
       "Nigeria      0.1234  12345.67\n",
       "Cyprus       0.2345  23456.78\n",
       "France       0.3456  34567.89\n",
       "Fiji         0.4567  45678.90\n",
       "Canada       0.5678  56789.01\n",
       "Chile        6.7890  67890.12\n",
       "Italy        7.8998  78901.23"
      ]
     },
     "execution_count": 159,
     "metadata": {},
     "output_type": "execute_result"
    }
   ],
   "source": [
    "df[['Population', 'GDP']]/100"
   ]
  },
  {
   "cell_type": "code",
   "execution_count": 160,
   "id": "fa365845",
   "metadata": {},
   "outputs": [
    {
     "data": {
      "text/html": [
       "<div>\n",
       "<style scoped>\n",
       "    .dataframe tbody tr th:only-of-type {\n",
       "        vertical-align: middle;\n",
       "    }\n",
       "\n",
       "    .dataframe tbody tr th {\n",
       "        vertical-align: top;\n",
       "    }\n",
       "\n",
       "    .dataframe thead th {\n",
       "        text-align: right;\n",
       "    }\n",
       "</style>\n",
       "<table border=\"1\" class=\"dataframe\">\n",
       "  <thead>\n",
       "    <tr style=\"text-align: right;\">\n",
       "      <th></th>\n",
       "      <th>Population</th>\n",
       "      <th>GDP</th>\n",
       "      <th>Surface Area</th>\n",
       "      <th>MDI</th>\n",
       "      <th>Continent</th>\n",
       "    </tr>\n",
       "  </thead>\n",
       "  <tbody>\n",
       "    <tr>\n",
       "      <th>Nigeria</th>\n",
       "      <td>12.34</td>\n",
       "      <td>1234567</td>\n",
       "      <td>123455</td>\n",
       "      <td>0.987</td>\n",
       "      <td>Africa</td>\n",
       "    </tr>\n",
       "    <tr>\n",
       "      <th>Cyprus</th>\n",
       "      <td>23.45</td>\n",
       "      <td>2345678</td>\n",
       "      <td>478389</td>\n",
       "      <td>0.876</td>\n",
       "      <td>Asia</td>\n",
       "    </tr>\n",
       "    <tr>\n",
       "      <th>France</th>\n",
       "      <td>34.56</td>\n",
       "      <td>3456789</td>\n",
       "      <td>463789</td>\n",
       "      <td>0.765</td>\n",
       "      <td>Antartica</td>\n",
       "    </tr>\n",
       "    <tr>\n",
       "      <th>Fiji</th>\n",
       "      <td>45.67</td>\n",
       "      <td>4567890</td>\n",
       "      <td>897621</td>\n",
       "      <td>0.654</td>\n",
       "      <td>Australia</td>\n",
       "    </tr>\n",
       "    <tr>\n",
       "      <th>Canada</th>\n",
       "      <td>56.78</td>\n",
       "      <td>5678901</td>\n",
       "      <td>387414</td>\n",
       "      <td>0.543</td>\n",
       "      <td>North America</td>\n",
       "    </tr>\n",
       "    <tr>\n",
       "      <th>Chile</th>\n",
       "      <td>678.90</td>\n",
       "      <td>6789012</td>\n",
       "      <td>142409</td>\n",
       "      <td>0.432</td>\n",
       "      <td>South America</td>\n",
       "    </tr>\n",
       "    <tr>\n",
       "      <th>Italy</th>\n",
       "      <td>789.98</td>\n",
       "      <td>7890123</td>\n",
       "      <td>749652</td>\n",
       "      <td>0.321</td>\n",
       "      <td>Europe</td>\n",
       "    </tr>\n",
       "  </tbody>\n",
       "</table>\n",
       "</div>"
      ],
      "text/plain": [
       "         Population      GDP  Surface Area    MDI      Continent\n",
       "Nigeria       12.34  1234567        123455  0.987         Africa\n",
       "Cyprus        23.45  2345678        478389  0.876           Asia\n",
       "France        34.56  3456789        463789  0.765      Antartica\n",
       "Fiji          45.67  4567890        897621  0.654      Australia\n",
       "Canada        56.78  5678901        387414  0.543  North America\n",
       "Chile        678.90  6789012        142409  0.432  South America\n",
       "Italy        789.98  7890123        749652  0.321         Europe"
      ]
     },
     "execution_count": 160,
     "metadata": {},
     "output_type": "execute_result"
    }
   ],
   "source": [
    "df"
   ]
  },
  {
   "cell_type": "code",
   "execution_count": 161,
   "id": "a2df7ec7",
   "metadata": {},
   "outputs": [
    {
     "data": {
      "text/plain": [
       "GDP   -1000000.0\n",
       "MDI         -0.3\n",
       "dtype: float64"
      ]
     },
     "execution_count": 161,
     "metadata": {},
     "output_type": "execute_result"
    }
   ],
   "source": [
    "crisis = pd.Series([-1000000, -0.3], index=['GDP', 'MDI'])\n",
    "crisis"
   ]
  },
  {
   "cell_type": "code",
   "execution_count": 162,
   "id": "28e83817",
   "metadata": {},
   "outputs": [
    {
     "data": {
      "text/html": [
       "<div>\n",
       "<style scoped>\n",
       "    .dataframe tbody tr th:only-of-type {\n",
       "        vertical-align: middle;\n",
       "    }\n",
       "\n",
       "    .dataframe tbody tr th {\n",
       "        vertical-align: top;\n",
       "    }\n",
       "\n",
       "    .dataframe thead th {\n",
       "        text-align: right;\n",
       "    }\n",
       "</style>\n",
       "<table border=\"1\" class=\"dataframe\">\n",
       "  <thead>\n",
       "    <tr style=\"text-align: right;\">\n",
       "      <th></th>\n",
       "      <th>GDP</th>\n",
       "      <th>MDI</th>\n",
       "    </tr>\n",
       "  </thead>\n",
       "  <tbody>\n",
       "    <tr>\n",
       "      <th>Nigeria</th>\n",
       "      <td>1234567</td>\n",
       "      <td>0.987</td>\n",
       "    </tr>\n",
       "    <tr>\n",
       "      <th>Cyprus</th>\n",
       "      <td>2345678</td>\n",
       "      <td>0.876</td>\n",
       "    </tr>\n",
       "    <tr>\n",
       "      <th>France</th>\n",
       "      <td>3456789</td>\n",
       "      <td>0.765</td>\n",
       "    </tr>\n",
       "    <tr>\n",
       "      <th>Fiji</th>\n",
       "      <td>4567890</td>\n",
       "      <td>0.654</td>\n",
       "    </tr>\n",
       "    <tr>\n",
       "      <th>Canada</th>\n",
       "      <td>5678901</td>\n",
       "      <td>0.543</td>\n",
       "    </tr>\n",
       "    <tr>\n",
       "      <th>Chile</th>\n",
       "      <td>6789012</td>\n",
       "      <td>0.432</td>\n",
       "    </tr>\n",
       "    <tr>\n",
       "      <th>Italy</th>\n",
       "      <td>7890123</td>\n",
       "      <td>0.321</td>\n",
       "    </tr>\n",
       "  </tbody>\n",
       "</table>\n",
       "</div>"
      ],
      "text/plain": [
       "             GDP    MDI\n",
       "Nigeria  1234567  0.987\n",
       "Cyprus   2345678  0.876\n",
       "France   3456789  0.765\n",
       "Fiji     4567890  0.654\n",
       "Canada   5678901  0.543\n",
       "Chile    6789012  0.432\n",
       "Italy    7890123  0.321"
      ]
     },
     "execution_count": 162,
     "metadata": {},
     "output_type": "execute_result"
    }
   ],
   "source": [
    "df[['GDP', 'MDI']]"
   ]
  },
  {
   "cell_type": "code",
   "execution_count": 163,
   "id": "b37370a0",
   "metadata": {},
   "outputs": [
    {
     "data": {
      "text/html": [
       "<div>\n",
       "<style scoped>\n",
       "    .dataframe tbody tr th:only-of-type {\n",
       "        vertical-align: middle;\n",
       "    }\n",
       "\n",
       "    .dataframe tbody tr th {\n",
       "        vertical-align: top;\n",
       "    }\n",
       "\n",
       "    .dataframe thead th {\n",
       "        text-align: right;\n",
       "    }\n",
       "</style>\n",
       "<table border=\"1\" class=\"dataframe\">\n",
       "  <thead>\n",
       "    <tr style=\"text-align: right;\">\n",
       "      <th></th>\n",
       "      <th>GDP</th>\n",
       "      <th>MDI</th>\n",
       "    </tr>\n",
       "  </thead>\n",
       "  <tbody>\n",
       "    <tr>\n",
       "      <th>Nigeria</th>\n",
       "      <td>234567.0</td>\n",
       "      <td>0.687</td>\n",
       "    </tr>\n",
       "    <tr>\n",
       "      <th>Cyprus</th>\n",
       "      <td>1345678.0</td>\n",
       "      <td>0.576</td>\n",
       "    </tr>\n",
       "    <tr>\n",
       "      <th>France</th>\n",
       "      <td>2456789.0</td>\n",
       "      <td>0.465</td>\n",
       "    </tr>\n",
       "    <tr>\n",
       "      <th>Fiji</th>\n",
       "      <td>3567890.0</td>\n",
       "      <td>0.354</td>\n",
       "    </tr>\n",
       "    <tr>\n",
       "      <th>Canada</th>\n",
       "      <td>4678901.0</td>\n",
       "      <td>0.243</td>\n",
       "    </tr>\n",
       "    <tr>\n",
       "      <th>Chile</th>\n",
       "      <td>5789012.0</td>\n",
       "      <td>0.132</td>\n",
       "    </tr>\n",
       "    <tr>\n",
       "      <th>Italy</th>\n",
       "      <td>6890123.0</td>\n",
       "      <td>0.021</td>\n",
       "    </tr>\n",
       "  </tbody>\n",
       "</table>\n",
       "</div>"
      ],
      "text/plain": [
       "               GDP    MDI\n",
       "Nigeria   234567.0  0.687\n",
       "Cyprus   1345678.0  0.576\n",
       "France   2456789.0  0.465\n",
       "Fiji     3567890.0  0.354\n",
       "Canada   4678901.0  0.243\n",
       "Chile    5789012.0  0.132\n",
       "Italy    6890123.0  0.021"
      ]
     },
     "execution_count": 163,
     "metadata": {},
     "output_type": "execute_result"
    }
   ],
   "source": [
    "df[['GDP', 'MDI']] + crisis"
   ]
  },
  {
   "cell_type": "code",
   "execution_count": 164,
   "id": "e6c10c95",
   "metadata": {},
   "outputs": [
    {
     "data": {
      "text/html": [
       "<div>\n",
       "<style scoped>\n",
       "    .dataframe tbody tr th:only-of-type {\n",
       "        vertical-align: middle;\n",
       "    }\n",
       "\n",
       "    .dataframe tbody tr th {\n",
       "        vertical-align: top;\n",
       "    }\n",
       "\n",
       "    .dataframe thead th {\n",
       "        text-align: right;\n",
       "    }\n",
       "</style>\n",
       "<table border=\"1\" class=\"dataframe\">\n",
       "  <thead>\n",
       "    <tr style=\"text-align: right;\">\n",
       "      <th></th>\n",
       "      <th>GDP</th>\n",
       "      <th>MDI</th>\n",
       "    </tr>\n",
       "  </thead>\n",
       "  <tbody>\n",
       "    <tr>\n",
       "      <th>Nigeria</th>\n",
       "      <td>234567.0</td>\n",
       "      <td>0.687</td>\n",
       "    </tr>\n",
       "    <tr>\n",
       "      <th>Cyprus</th>\n",
       "      <td>1345678.0</td>\n",
       "      <td>0.576</td>\n",
       "    </tr>\n",
       "    <tr>\n",
       "      <th>France</th>\n",
       "      <td>2456789.0</td>\n",
       "      <td>0.465</td>\n",
       "    </tr>\n",
       "    <tr>\n",
       "      <th>Fiji</th>\n",
       "      <td>3567890.0</td>\n",
       "      <td>0.354</td>\n",
       "    </tr>\n",
       "    <tr>\n",
       "      <th>Canada</th>\n",
       "      <td>4678901.0</td>\n",
       "      <td>0.243</td>\n",
       "    </tr>\n",
       "    <tr>\n",
       "      <th>Chile</th>\n",
       "      <td>5789012.0</td>\n",
       "      <td>0.132</td>\n",
       "    </tr>\n",
       "    <tr>\n",
       "      <th>Italy</th>\n",
       "      <td>6890123.0</td>\n",
       "      <td>0.021</td>\n",
       "    </tr>\n",
       "  </tbody>\n",
       "</table>\n",
       "</div>"
      ],
      "text/plain": [
       "               GDP    MDI\n",
       "Nigeria   234567.0  0.687\n",
       "Cyprus   1345678.0  0.576\n",
       "France   2456789.0  0.465\n",
       "Fiji     3567890.0  0.354\n",
       "Canada   4678901.0  0.243\n",
       "Chile    5789012.0  0.132\n",
       "Italy    6890123.0  0.021"
      ]
     },
     "execution_count": 164,
     "metadata": {},
     "output_type": "execute_result"
    }
   ],
   "source": [
    "df[['GDP', 'MDI']] + [-1000000, -0.3]"
   ]
  },
  {
   "cell_type": "markdown",
   "id": "7d7b61c5",
   "metadata": {},
   "source": [
    "to add new columns in a pd using pd series"
   ]
  },
  {
   "cell_type": "code",
   "execution_count": 165,
   "id": "9f86464b",
   "metadata": {},
   "outputs": [
    {
     "data": {
      "text/plain": [
       "Nigeria     Pidgin\n",
       "France      French\n",
       "Canada     English\n",
       "Italy      Italian\n",
       "Chile      Spanish\n",
       "Cyprus       Greek\n",
       "Name: Language, dtype: object"
      ]
     },
     "execution_count": 165,
     "metadata": {},
     "output_type": "execute_result"
    }
   ],
   "source": [
    "langs = pd.Series(\n",
    "    ['Pidgin', 'French', 'English', 'Italian', 'Spanish', 'Greek'],\n",
    "    index=['Nigeria', 'France', 'Canada', 'Italy', 'Chile', 'Cyprus'],\n",
    "    name='Language'\n",
    ")\n",
    "langs"
   ]
  },
  {
   "cell_type": "code",
   "execution_count": 166,
   "id": "7b66e2b8",
   "metadata": {},
   "outputs": [
    {
     "data": {
      "text/html": [
       "<div>\n",
       "<style scoped>\n",
       "    .dataframe tbody tr th:only-of-type {\n",
       "        vertical-align: middle;\n",
       "    }\n",
       "\n",
       "    .dataframe tbody tr th {\n",
       "        vertical-align: top;\n",
       "    }\n",
       "\n",
       "    .dataframe thead th {\n",
       "        text-align: right;\n",
       "    }\n",
       "</style>\n",
       "<table border=\"1\" class=\"dataframe\">\n",
       "  <thead>\n",
       "    <tr style=\"text-align: right;\">\n",
       "      <th></th>\n",
       "      <th>Population</th>\n",
       "      <th>GDP</th>\n",
       "      <th>Surface Area</th>\n",
       "      <th>MDI</th>\n",
       "      <th>Continent</th>\n",
       "      <th>Language</th>\n",
       "    </tr>\n",
       "  </thead>\n",
       "  <tbody>\n",
       "    <tr>\n",
       "      <th>Nigeria</th>\n",
       "      <td>12.34</td>\n",
       "      <td>1234567</td>\n",
       "      <td>123455</td>\n",
       "      <td>0.987</td>\n",
       "      <td>Africa</td>\n",
       "      <td>Pidgin</td>\n",
       "    </tr>\n",
       "    <tr>\n",
       "      <th>Cyprus</th>\n",
       "      <td>23.45</td>\n",
       "      <td>2345678</td>\n",
       "      <td>478389</td>\n",
       "      <td>0.876</td>\n",
       "      <td>Asia</td>\n",
       "      <td>Greek</td>\n",
       "    </tr>\n",
       "    <tr>\n",
       "      <th>France</th>\n",
       "      <td>34.56</td>\n",
       "      <td>3456789</td>\n",
       "      <td>463789</td>\n",
       "      <td>0.765</td>\n",
       "      <td>Antartica</td>\n",
       "      <td>French</td>\n",
       "    </tr>\n",
       "    <tr>\n",
       "      <th>Fiji</th>\n",
       "      <td>45.67</td>\n",
       "      <td>4567890</td>\n",
       "      <td>897621</td>\n",
       "      <td>0.654</td>\n",
       "      <td>Australia</td>\n",
       "      <td>NaN</td>\n",
       "    </tr>\n",
       "    <tr>\n",
       "      <th>Canada</th>\n",
       "      <td>56.78</td>\n",
       "      <td>5678901</td>\n",
       "      <td>387414</td>\n",
       "      <td>0.543</td>\n",
       "      <td>North America</td>\n",
       "      <td>English</td>\n",
       "    </tr>\n",
       "    <tr>\n",
       "      <th>Chile</th>\n",
       "      <td>678.90</td>\n",
       "      <td>6789012</td>\n",
       "      <td>142409</td>\n",
       "      <td>0.432</td>\n",
       "      <td>South America</td>\n",
       "      <td>Spanish</td>\n",
       "    </tr>\n",
       "    <tr>\n",
       "      <th>Italy</th>\n",
       "      <td>789.98</td>\n",
       "      <td>7890123</td>\n",
       "      <td>749652</td>\n",
       "      <td>0.321</td>\n",
       "      <td>Europe</td>\n",
       "      <td>Italian</td>\n",
       "    </tr>\n",
       "  </tbody>\n",
       "</table>\n",
       "</div>"
      ],
      "text/plain": [
       "         Population      GDP  Surface Area    MDI      Continent Language\n",
       "Nigeria       12.34  1234567        123455  0.987         Africa   Pidgin\n",
       "Cyprus        23.45  2345678        478389  0.876           Asia    Greek\n",
       "France        34.56  3456789        463789  0.765      Antartica   French\n",
       "Fiji          45.67  4567890        897621  0.654      Australia      NaN\n",
       "Canada        56.78  5678901        387414  0.543  North America  English\n",
       "Chile        678.90  6789012        142409  0.432  South America  Spanish\n",
       "Italy        789.98  7890123        749652  0.321         Europe  Italian"
      ]
     },
     "execution_count": 166,
     "metadata": {},
     "output_type": "execute_result"
    }
   ],
   "source": [
    "df['Language'] = langs\n",
    "df"
   ]
  },
  {
   "cell_type": "code",
   "execution_count": 167,
   "id": "442589e3",
   "metadata": {},
   "outputs": [
    {
     "data": {
      "text/plain": [
       "Nigeria    English\n",
       "Cyprus       Greek\n",
       "France      French\n",
       "Fiji           NaN\n",
       "Canada     English\n",
       "Chile      Spanish\n",
       "Italy      Italian\n",
       "Name: Language, dtype: object"
      ]
     },
     "execution_count": 167,
     "metadata": {},
     "output_type": "execute_result"
    }
   ],
   "source": [
    "df['Language'].replace('Pidgin', 'English')\n"
   ]
  },
  {
   "cell_type": "code",
   "execution_count": null,
   "id": "0dd15f6f",
   "metadata": {},
   "outputs": [],
   "source": []
  }
 ],
 "metadata": {
  "kernelspec": {
   "display_name": "Python 3",
   "language": "python",
   "name": "python3"
  },
  "language_info": {
   "codemirror_mode": {
    "name": "ipython",
    "version": 3
   },
   "file_extension": ".py",
   "mimetype": "text/x-python",
   "name": "python",
   "nbconvert_exporter": "python",
   "pygments_lexer": "ipython3",
   "version": "3.10.5"
  }
 },
 "nbformat": 4,
 "nbformat_minor": 5
}
