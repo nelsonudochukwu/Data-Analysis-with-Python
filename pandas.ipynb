{
 "cells": [
  {
   "cell_type": "code",
   "execution_count": 3,
   "id": "4a639d57",
   "metadata": {},
   "outputs": [],
   "source": [
    "import pandas as pd\n",
    "import numpy as np"
   ]
  },
  {
   "cell_type": "code",
   "execution_count": 4,
   "id": "a87376c3",
   "metadata": {},
   "outputs": [],
   "source": [
    "population = pd.Series([12345.6, 23456.7, 34567.8, 45678.9, 5678,1])"
   ]
  },
  {
   "cell_type": "code",
   "execution_count": 5,
   "id": "48b3e946",
   "metadata": {},
   "outputs": [
    {
     "data": {
      "text/plain": [
       "0    12345.6\n",
       "1    23456.7\n",
       "2    34567.8\n",
       "3    45678.9\n",
       "4     5678.0\n",
       "5        1.0\n",
       "dtype: float64"
      ]
     },
     "execution_count": 5,
     "metadata": {},
     "output_type": "execute_result"
    }
   ],
   "source": [
    "population"
   ]
  },
  {
   "cell_type": "code",
   "execution_count": 6,
   "id": "c7b286d2",
   "metadata": {},
   "outputs": [
    {
     "data": {
      "text/plain": [
       "0    12345.6\n",
       "1    23456.7\n",
       "2    34567.8\n",
       "3    45678.9\n",
       "4     5678.0\n",
       "5        1.0\n",
       "Name: Nigeria's Population, dtype: float64"
      ]
     },
     "execution_count": 6,
     "metadata": {},
     "output_type": "execute_result"
    }
   ],
   "source": [
    "population.name = \"Nigeria's Population\"\n",
    "population"
   ]
  },
  {
   "cell_type": "code",
   "execution_count": 7,
   "id": "d9e67611",
   "metadata": {},
   "outputs": [
    {
     "data": {
      "text/plain": [
       "array([1.23456e+04, 2.34567e+04, 3.45678e+04, 4.56789e+04, 5.67800e+03,\n",
       "       1.00000e+00])"
      ]
     },
     "execution_count": 7,
     "metadata": {},
     "output_type": "execute_result"
    }
   ],
   "source": [
    "population.values"
   ]
  },
  {
   "cell_type": "code",
   "execution_count": 8,
   "id": "5b2ece8a",
   "metadata": {},
   "outputs": [
    {
     "data": {
      "text/plain": [
       "Lagos       12345.6\n",
       "Abeokuta    23456.7\n",
       "Anambra     34567.8\n",
       "Osun        45678.9\n",
       "kogi         5678.0\n",
       "Delta           1.0\n",
       "Name: Nigeria's Population, dtype: float64"
      ]
     },
     "execution_count": 8,
     "metadata": {},
     "output_type": "execute_result"
    }
   ],
   "source": [
    "population.index = [\"Lagos\", \"Abeokuta\", \"Anambra\", \"Osun\", \"kogi\", \"Delta\"]\n",
    "population"
   ]
  },
  {
   "cell_type": "code",
   "execution_count": 9,
   "id": "8b3c4d72",
   "metadata": {},
   "outputs": [],
   "source": [
    "#  to find the numeric position of a pandas series , use \"iloc\" attribute "
   ]
  },
  {
   "cell_type": "code",
   "execution_count": 14,
   "id": "30e42e4c",
   "metadata": {},
   "outputs": [
    {
     "data": {
      "text/plain": [
       "Osun       45678.9\n",
       "Anambra    34567.8\n",
       "Name: Nigeria's Population, dtype: float64"
      ]
     },
     "execution_count": 14,
     "metadata": {},
     "output_type": "execute_result"
    }
   ],
   "source": [
    "population['Lagos']\n",
    "\n",
    "population[['Osun', 'Anambra']]"
   ]
  },
  {
   "cell_type": "code",
   "execution_count": 16,
   "id": "38b164b8",
   "metadata": {},
   "outputs": [
    {
     "data": {
      "text/plain": [
       "34567.8"
      ]
     },
     "execution_count": 16,
     "metadata": {},
     "output_type": "execute_result"
    }
   ],
   "source": [
    "population.iloc[2]"
   ]
  },
  {
   "cell_type": "code",
   "execution_count": 17,
   "id": "6073c5e6",
   "metadata": {},
   "outputs": [
    {
     "data": {
      "text/plain": [
       "Lagos    12345.6\n",
       "kogi      5678.0\n",
       "Name: Nigeria's Population, dtype: float64"
      ]
     },
     "execution_count": 17,
     "metadata": {},
     "output_type": "execute_result"
    }
   ],
   "source": [
    "population.iloc[[0, 4]]"
   ]
  },
  {
   "cell_type": "code",
   "execution_count": 23,
   "id": "c2e8ffc2",
   "metadata": {},
   "outputs": [
    {
     "data": {
      "text/plain": [
       "Lagos       12345.6\n",
       "Abeokuta    23456.7\n",
       "Anambra     34567.8\n",
       "Osun        45678.9\n",
       "kogi         5678.0\n",
       "Name: Nigeria's Population, dtype: float64"
      ]
     },
     "execution_count": 23,
     "metadata": {},
     "output_type": "execute_result"
    }
   ],
   "source": [
    "population['Lagos':'kogi']"
   ]
  },
  {
   "cell_type": "code",
   "execution_count": 24,
   "id": "7a7cb150",
   "metadata": {},
   "outputs": [
    {
     "data": {
      "text/plain": [
       "Lagos        True\n",
       "Abeokuta     True\n",
       "Anambra      True\n",
       "Osun         True\n",
       "kogi        False\n",
       "Delta       False\n",
       "Name: Nigeria's Population, dtype: bool"
      ]
     },
     "execution_count": 24,
     "metadata": {},
     "output_type": "execute_result"
    }
   ],
   "source": [
    "population>12000\n"
   ]
  },
  {
   "cell_type": "code",
   "execution_count": 26,
   "id": "b49c38bc",
   "metadata": {},
   "outputs": [
    {
     "data": {
      "text/plain": [
       "Lagos       12345.6\n",
       "Abeokuta    23456.7\n",
       "Anambra     34567.8\n",
       "Osun        45678.9\n",
       "Name: Nigeria's Population, dtype: float64"
      ]
     },
     "execution_count": 26,
     "metadata": {},
     "output_type": "execute_result"
    }
   ],
   "source": [
    "population[population>12000]"
   ]
  },
  {
   "cell_type": "code",
   "execution_count": 27,
   "id": "bc35d55c",
   "metadata": {},
   "outputs": [
    {
     "data": {
      "text/plain": [
       "20288.0"
      ]
     },
     "execution_count": 27,
     "metadata": {},
     "output_type": "execute_result"
    }
   ],
   "source": [
    "population.mean()"
   ]
  },
  {
   "cell_type": "code",
   "execution_count": 28,
   "id": "10c962e0",
   "metadata": {},
   "outputs": [
    {
     "data": {
      "text/plain": [
       "Abeokuta    23456.7\n",
       "Anambra     34567.8\n",
       "Osun        45678.9\n",
       "Name: Nigeria's Population, dtype: float64"
      ]
     },
     "execution_count": 28,
     "metadata": {},
     "output_type": "execute_result"
    }
   ],
   "source": [
    "population[population > population.mean()]"
   ]
  },
  {
   "cell_type": "code",
   "execution_count": 29,
   "id": "08372618",
   "metadata": {},
   "outputs": [
    {
     "data": {
      "text/plain": [
       "Lagos       False\n",
       "Abeokuta     True\n",
       "Anambra      True\n",
       "Osun         True\n",
       "kogi        False\n",
       "Delta       False\n",
       "Name: Nigeria's Population, dtype: bool"
      ]
     },
     "execution_count": 29,
     "metadata": {},
     "output_type": "execute_result"
    }
   ],
   "source": [
    "population > population.mean()"
   ]
  },
  {
   "cell_type": "code",
   "execution_count": 31,
   "id": "5b31d8f2",
   "metadata": {},
   "outputs": [
    {
     "data": {
      "text/plain": [
       "Abeokuta    23456.7\n",
       "Anambra     34567.8\n",
       "Osun        45678.9\n",
       "Name: Nigeria's Population, dtype: float64"
      ]
     },
     "execution_count": 31,
     "metadata": {},
     "output_type": "execute_result"
    }
   ],
   "source": [
    "population[(population > 25000) | (population>population.mean())]"
   ]
  },
  {
   "cell_type": "code",
   "execution_count": 33,
   "id": "b43ae962",
   "metadata": {},
   "outputs": [
    {
     "data": {
      "text/plain": [
       "Abeokuta    23456.7\n",
       "Name: Nigeria's Population, dtype: float64"
      ]
     },
     "execution_count": 33,
     "metadata": {},
     "output_type": "execute_result"
    }
   ],
   "source": [
    "population[(population > 20000) & (population<30000)]"
   ]
  },
  {
   "cell_type": "code",
   "execution_count": 38,
   "id": "6ce90c42",
   "metadata": {},
   "outputs": [
    {
     "data": {
      "text/plain": [
       "Lagos       30000.0\n",
       "Abeokuta    23456.7\n",
       "Anambra     34567.8\n",
       "Osun        45678.9\n",
       "kogi         5678.0\n",
       "Delta           1.0\n",
       "Name: Nigeria's Population, dtype: float64"
      ]
     },
     "execution_count": 38,
     "metadata": {},
     "output_type": "execute_result"
    }
   ],
   "source": [
    "population['Lagos']=30000\n",
    "population"
   ]
  },
  {
   "cell_type": "code",
   "execution_count": 39,
   "id": "84c9bb47",
   "metadata": {},
   "outputs": [
    {
     "data": {
      "text/plain": [
       "Lagos       30000.0\n",
       "Abeokuta    23456.7\n",
       "Anambra     34567.8\n",
       "Osun        40000.0\n",
       "kogi         5678.0\n",
       "Delta           1.0\n",
       "Name: Nigeria's Population, dtype: float64"
      ]
     },
     "execution_count": 39,
     "metadata": {},
     "output_type": "execute_result"
    }
   ],
   "source": [
    "population.iloc[-3]=40000\n",
    "population"
   ]
  },
  {
   "cell_type": "code",
   "execution_count": 43,
   "id": "0bb21c89",
   "metadata": {},
   "outputs": [
    {
     "data": {
      "text/html": [
       "<div>\n",
       "<style scoped>\n",
       "    .dataframe tbody tr th:only-of-type {\n",
       "        vertical-align: middle;\n",
       "    }\n",
       "\n",
       "    .dataframe tbody tr th {\n",
       "        vertical-align: top;\n",
       "    }\n",
       "\n",
       "    .dataframe thead th {\n",
       "        text-align: right;\n",
       "    }\n",
       "</style>\n",
       "<table border=\"1\" class=\"dataframe\">\n",
       "  <thead>\n",
       "    <tr style=\"text-align: right;\">\n",
       "      <th></th>\n",
       "      <th>Population</th>\n",
       "      <th>GDP</th>\n",
       "      <th>Surface Area</th>\n",
       "      <th>MDI</th>\n",
       "      <th>Continent</th>\n",
       "    </tr>\n",
       "  </thead>\n",
       "  <tbody>\n",
       "    <tr>\n",
       "      <th>0</th>\n",
       "      <td>12.34</td>\n",
       "      <td>1234567</td>\n",
       "      <td>123455</td>\n",
       "      <td>0.987</td>\n",
       "      <td>Africa</td>\n",
       "    </tr>\n",
       "    <tr>\n",
       "      <th>1</th>\n",
       "      <td>23.45</td>\n",
       "      <td>2345678</td>\n",
       "      <td>478389</td>\n",
       "      <td>0.876</td>\n",
       "      <td>Asia</td>\n",
       "    </tr>\n",
       "    <tr>\n",
       "      <th>2</th>\n",
       "      <td>34.56</td>\n",
       "      <td>3456789</td>\n",
       "      <td>463789</td>\n",
       "      <td>0.765</td>\n",
       "      <td>Antartica</td>\n",
       "    </tr>\n",
       "    <tr>\n",
       "      <th>3</th>\n",
       "      <td>45.67</td>\n",
       "      <td>4567890</td>\n",
       "      <td>897621</td>\n",
       "      <td>0.654</td>\n",
       "      <td>Australia</td>\n",
       "    </tr>\n",
       "    <tr>\n",
       "      <th>4</th>\n",
       "      <td>56.78</td>\n",
       "      <td>5678901</td>\n",
       "      <td>387414</td>\n",
       "      <td>0.543</td>\n",
       "      <td>North America</td>\n",
       "    </tr>\n",
       "    <tr>\n",
       "      <th>5</th>\n",
       "      <td>678.90</td>\n",
       "      <td>6789012</td>\n",
       "      <td>142409</td>\n",
       "      <td>0.432</td>\n",
       "      <td>South America</td>\n",
       "    </tr>\n",
       "    <tr>\n",
       "      <th>6</th>\n",
       "      <td>789.98</td>\n",
       "      <td>7890123</td>\n",
       "      <td>749652</td>\n",
       "      <td>0.321</td>\n",
       "      <td>Europe</td>\n",
       "    </tr>\n",
       "  </tbody>\n",
       "</table>\n",
       "</div>"
      ],
      "text/plain": [
       "   Population      GDP  Surface Area    MDI      Continent\n",
       "0       12.34  1234567        123455  0.987         Africa\n",
       "1       23.45  2345678        478389  0.876           Asia\n",
       "2       34.56  3456789        463789  0.765      Antartica\n",
       "3       45.67  4567890        897621  0.654      Australia\n",
       "4       56.78  5678901        387414  0.543  North America\n",
       "5      678.90  6789012        142409  0.432  South America\n",
       "6      789.98  7890123        749652  0.321         Europe"
      ]
     },
     "execution_count": 43,
     "metadata": {},
     "output_type": "execute_result"
    }
   ],
   "source": [
    "df = pd.DataFrame({\n",
    "    'Population': [12.34, 23.45, 34.56, 45.67, 56.78, 678.90, 789.98],\n",
    "    'GDP': [1234567, 2345678, 3456789, 4567890, 5678901, 6789012, 7890123],\n",
    "    'Surface Area': [123455, 478389, 463789, 897621, 387414, 142409, 749652],\n",
    "    'MDI': [0.987, 0.876, 0.765, 0.654, 0.543, 0.432, 0.321],\n",
    "    'Continent': ['Africa', 'Asia', 'Antartica', 'Australia', 'North America', 'South America', 'Europe'],\n",
    "    }, columns=['Population', 'GDP', 'Surface Area', 'MDI', 'Continent'])\n",
    "\n",
    "df"
   ]
  },
  {
   "cell_type": "code",
   "execution_count": 45,
   "id": "2c263a9a",
   "metadata": {},
   "outputs": [
    {
     "data": {
      "text/html": [
       "<div>\n",
       "<style scoped>\n",
       "    .dataframe tbody tr th:only-of-type {\n",
       "        vertical-align: middle;\n",
       "    }\n",
       "\n",
       "    .dataframe tbody tr th {\n",
       "        vertical-align: top;\n",
       "    }\n",
       "\n",
       "    .dataframe thead th {\n",
       "        text-align: right;\n",
       "    }\n",
       "</style>\n",
       "<table border=\"1\" class=\"dataframe\">\n",
       "  <thead>\n",
       "    <tr style=\"text-align: right;\">\n",
       "      <th></th>\n",
       "      <th>Population</th>\n",
       "      <th>GDP</th>\n",
       "      <th>Surface Area</th>\n",
       "      <th>MDI</th>\n",
       "      <th>Continent</th>\n",
       "    </tr>\n",
       "  </thead>\n",
       "  <tbody>\n",
       "    <tr>\n",
       "      <th>Nigeria</th>\n",
       "      <td>12.34</td>\n",
       "      <td>1234567</td>\n",
       "      <td>123455</td>\n",
       "      <td>0.987</td>\n",
       "      <td>Africa</td>\n",
       "    </tr>\n",
       "    <tr>\n",
       "      <th>Cyprus</th>\n",
       "      <td>23.45</td>\n",
       "      <td>2345678</td>\n",
       "      <td>478389</td>\n",
       "      <td>0.876</td>\n",
       "      <td>Asia</td>\n",
       "    </tr>\n",
       "    <tr>\n",
       "      <th>France</th>\n",
       "      <td>34.56</td>\n",
       "      <td>3456789</td>\n",
       "      <td>463789</td>\n",
       "      <td>0.765</td>\n",
       "      <td>Antartica</td>\n",
       "    </tr>\n",
       "    <tr>\n",
       "      <th>Fiji</th>\n",
       "      <td>45.67</td>\n",
       "      <td>4567890</td>\n",
       "      <td>897621</td>\n",
       "      <td>0.654</td>\n",
       "      <td>Australia</td>\n",
       "    </tr>\n",
       "    <tr>\n",
       "      <th>Canada</th>\n",
       "      <td>56.78</td>\n",
       "      <td>5678901</td>\n",
       "      <td>387414</td>\n",
       "      <td>0.543</td>\n",
       "      <td>North America</td>\n",
       "    </tr>\n",
       "    <tr>\n",
       "      <th>Chile</th>\n",
       "      <td>678.90</td>\n",
       "      <td>6789012</td>\n",
       "      <td>142409</td>\n",
       "      <td>0.432</td>\n",
       "      <td>South America</td>\n",
       "    </tr>\n",
       "    <tr>\n",
       "      <th>Italy</th>\n",
       "      <td>789.98</td>\n",
       "      <td>7890123</td>\n",
       "      <td>749652</td>\n",
       "      <td>0.321</td>\n",
       "      <td>Europe</td>\n",
       "    </tr>\n",
       "  </tbody>\n",
       "</table>\n",
       "</div>"
      ],
      "text/plain": [
       "         Population      GDP  Surface Area    MDI      Continent\n",
       "Nigeria       12.34  1234567        123455  0.987         Africa\n",
       "Cyprus        23.45  2345678        478389  0.876           Asia\n",
       "France        34.56  3456789        463789  0.765      Antartica\n",
       "Fiji          45.67  4567890        897621  0.654      Australia\n",
       "Canada        56.78  5678901        387414  0.543  North America\n",
       "Chile        678.90  6789012        142409  0.432  South America\n",
       "Italy        789.98  7890123        749652  0.321         Europe"
      ]
     },
     "execution_count": 45,
     "metadata": {},
     "output_type": "execute_result"
    }
   ],
   "source": [
    "df.index = ['Nigeria', 'Cyprus', 'France', 'Fiji', 'Canada', 'Chile', 'Italy' ]\n",
    "df"
   ]
  },
  {
   "cell_type": "code",
   "execution_count": null,
   "id": "499f174e",
   "metadata": {},
   "outputs": [],
   "source": []
  }
 ],
 "metadata": {
  "kernelspec": {
   "display_name": "Python 3",
   "language": "python",
   "name": "python3"
  },
  "language_info": {
   "codemirror_mode": {
    "name": "ipython",
    "version": 3
   },
   "file_extension": ".py",
   "mimetype": "text/x-python",
   "name": "python",
   "nbconvert_exporter": "python",
   "pygments_lexer": "ipython3",
   "version": "3.10.5"
  }
 },
 "nbformat": 4,
 "nbformat_minor": 5
}
