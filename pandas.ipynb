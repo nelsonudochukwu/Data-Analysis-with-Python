{
 "cells": [
  {
   "cell_type": "code",
   "execution_count": 3,
   "id": "4a639d57",
   "metadata": {},
   "outputs": [],
   "source": [
    "import pandas as pd\n",
    "import numpy as np"
   ]
  },
  {
   "cell_type": "code",
   "execution_count": 4,
   "id": "a87376c3",
   "metadata": {},
   "outputs": [],
   "source": [
    "population = pd.Series([12345.6, 23456.7, 34567.8, 45678.9, 5678,1])"
   ]
  },
  {
   "cell_type": "code",
   "execution_count": 5,
   "id": "48b3e946",
   "metadata": {},
   "outputs": [
    {
     "data": {
      "text/plain": [
       "0    12345.6\n",
       "1    23456.7\n",
       "2    34567.8\n",
       "3    45678.9\n",
       "4     5678.0\n",
       "5        1.0\n",
       "dtype: float64"
      ]
     },
     "execution_count": 5,
     "metadata": {},
     "output_type": "execute_result"
    }
   ],
   "source": [
    "population"
   ]
  },
  {
   "cell_type": "code",
   "execution_count": 6,
   "id": "c7b286d2",
   "metadata": {},
   "outputs": [
    {
     "data": {
      "text/plain": [
       "0    12345.6\n",
       "1    23456.7\n",
       "2    34567.8\n",
       "3    45678.9\n",
       "4     5678.0\n",
       "5        1.0\n",
       "Name: Nigeria's Population, dtype: float64"
      ]
     },
     "execution_count": 6,
     "metadata": {},
     "output_type": "execute_result"
    }
   ],
   "source": [
    "population.name = \"Nigeria's Population\"\n",
    "population"
   ]
  },
  {
   "cell_type": "code",
   "execution_count": 7,
   "id": "d9e67611",
   "metadata": {},
   "outputs": [
    {
     "data": {
      "text/plain": [
       "array([1.23456e+04, 2.34567e+04, 3.45678e+04, 4.56789e+04, 5.67800e+03,\n",
       "       1.00000e+00])"
      ]
     },
     "execution_count": 7,
     "metadata": {},
     "output_type": "execute_result"
    }
   ],
   "source": [
    "population.values"
   ]
  },
  {
   "cell_type": "code",
   "execution_count": 8,
   "id": "5b2ece8a",
   "metadata": {},
   "outputs": [
    {
     "data": {
      "text/plain": [
       "Lagos       12345.6\n",
       "Abeokuta    23456.7\n",
       "Anambra     34567.8\n",
       "Osun        45678.9\n",
       "kogi         5678.0\n",
       "Delta           1.0\n",
       "Name: Nigeria's Population, dtype: float64"
      ]
     },
     "execution_count": 8,
     "metadata": {},
     "output_type": "execute_result"
    }
   ],
   "source": [
    "population.index = [\"Lagos\", \"Abeokuta\", \"Anambra\", \"Osun\", \"kogi\", \"Delta\"]\n",
    "population"
   ]
  },
  {
   "cell_type": "code",
   "execution_count": 9,
   "id": "8b3c4d72",
   "metadata": {},
   "outputs": [],
   "source": [
    "#  to find the numeric position of a pandas series , use \"iloc\" attribute "
   ]
  },
  {
   "cell_type": "code",
   "execution_count": 14,
   "id": "30e42e4c",
   "metadata": {},
   "outputs": [
    {
     "data": {
      "text/plain": [
       "Osun       45678.9\n",
       "Anambra    34567.8\n",
       "Name: Nigeria's Population, dtype: float64"
      ]
     },
     "execution_count": 14,
     "metadata": {},
     "output_type": "execute_result"
    }
   ],
   "source": [
    "population['Lagos']\n",
    "\n",
    "population[['Osun', 'Anambra']]"
   ]
  },
  {
   "cell_type": "code",
   "execution_count": 16,
   "id": "38b164b8",
   "metadata": {},
   "outputs": [
    {
     "data": {
      "text/plain": [
       "34567.8"
      ]
     },
     "execution_count": 16,
     "metadata": {},
     "output_type": "execute_result"
    }
   ],
   "source": [
    "population.iloc[2]"
   ]
  },
  {
   "cell_type": "code",
   "execution_count": 17,
   "id": "6073c5e6",
   "metadata": {},
   "outputs": [
    {
     "data": {
      "text/plain": [
       "Lagos    12345.6\n",
       "kogi      5678.0\n",
       "Name: Nigeria's Population, dtype: float64"
      ]
     },
     "execution_count": 17,
     "metadata": {},
     "output_type": "execute_result"
    }
   ],
   "source": [
    "population.iloc[[0, 4]]"
   ]
  },
  {
   "cell_type": "code",
   "execution_count": 23,
   "id": "c2e8ffc2",
   "metadata": {},
   "outputs": [
    {
     "data": {
      "text/plain": [
       "Lagos       12345.6\n",
       "Abeokuta    23456.7\n",
       "Anambra     34567.8\n",
       "Osun        45678.9\n",
       "kogi         5678.0\n",
       "Name: Nigeria's Population, dtype: float64"
      ]
     },
     "execution_count": 23,
     "metadata": {},
     "output_type": "execute_result"
    }
   ],
   "source": [
    "population['Lagos':'kogi']"
   ]
  },
  {
   "cell_type": "code",
   "execution_count": 24,
   "id": "7a7cb150",
   "metadata": {},
   "outputs": [
    {
     "data": {
      "text/plain": [
       "Lagos        True\n",
       "Abeokuta     True\n",
       "Anambra      True\n",
       "Osun         True\n",
       "kogi        False\n",
       "Delta       False\n",
       "Name: Nigeria's Population, dtype: bool"
      ]
     },
     "execution_count": 24,
     "metadata": {},
     "output_type": "execute_result"
    }
   ],
   "source": [
    "population>12000\n"
   ]
  },
  {
   "cell_type": "code",
   "execution_count": 26,
   "id": "b49c38bc",
   "metadata": {},
   "outputs": [
    {
     "data": {
      "text/plain": [
       "Lagos       12345.6\n",
       "Abeokuta    23456.7\n",
       "Anambra     34567.8\n",
       "Osun        45678.9\n",
       "Name: Nigeria's Population, dtype: float64"
      ]
     },
     "execution_count": 26,
     "metadata": {},
     "output_type": "execute_result"
    }
   ],
   "source": [
    "population[population>12000]"
   ]
  },
  {
   "cell_type": "code",
   "execution_count": 27,
   "id": "bc35d55c",
   "metadata": {},
   "outputs": [
    {
     "data": {
      "text/plain": [
       "20288.0"
      ]
     },
     "execution_count": 27,
     "metadata": {},
     "output_type": "execute_result"
    }
   ],
   "source": [
    "population.mean()"
   ]
  },
  {
   "cell_type": "code",
   "execution_count": 28,
   "id": "10c962e0",
   "metadata": {},
   "outputs": [
    {
     "data": {
      "text/plain": [
       "Abeokuta    23456.7\n",
       "Anambra     34567.8\n",
       "Osun        45678.9\n",
       "Name: Nigeria's Population, dtype: float64"
      ]
     },
     "execution_count": 28,
     "metadata": {},
     "output_type": "execute_result"
    }
   ],
   "source": [
    "population[population > population.mean()]"
   ]
  },
  {
   "cell_type": "code",
   "execution_count": 29,
   "id": "08372618",
   "metadata": {},
   "outputs": [
    {
     "data": {
      "text/plain": [
       "Lagos       False\n",
       "Abeokuta     True\n",
       "Anambra      True\n",
       "Osun         True\n",
       "kogi        False\n",
       "Delta       False\n",
       "Name: Nigeria's Population, dtype: bool"
      ]
     },
     "execution_count": 29,
     "metadata": {},
     "output_type": "execute_result"
    }
   ],
   "source": [
    "population > population.mean()"
   ]
  },
  {
   "cell_type": "code",
   "execution_count": 31,
   "id": "5b31d8f2",
   "metadata": {},
   "outputs": [
    {
     "data": {
      "text/plain": [
       "Abeokuta    23456.7\n",
       "Anambra     34567.8\n",
       "Osun        45678.9\n",
       "Name: Nigeria's Population, dtype: float64"
      ]
     },
     "execution_count": 31,
     "metadata": {},
     "output_type": "execute_result"
    }
   ],
   "source": [
    "population[(population > 25000) | (population>population.mean())]"
   ]
  },
  {
   "cell_type": "code",
   "execution_count": 33,
   "id": "b43ae962",
   "metadata": {},
   "outputs": [
    {
     "data": {
      "text/plain": [
       "Abeokuta    23456.7\n",
       "Name: Nigeria's Population, dtype: float64"
      ]
     },
     "execution_count": 33,
     "metadata": {},
     "output_type": "execute_result"
    }
   ],
   "source": [
    "population[(population > 20000) & (population<30000)]"
   ]
  },
  {
   "cell_type": "code",
   "execution_count": 38,
   "id": "6ce90c42",
   "metadata": {},
   "outputs": [
    {
     "data": {
      "text/plain": [
       "Lagos       30000.0\n",
       "Abeokuta    23456.7\n",
       "Anambra     34567.8\n",
       "Osun        45678.9\n",
       "kogi         5678.0\n",
       "Delta           1.0\n",
       "Name: Nigeria's Population, dtype: float64"
      ]
     },
     "execution_count": 38,
     "metadata": {},
     "output_type": "execute_result"
    }
   ],
   "source": [
    "population['Lagos']=30000\n",
    "population"
   ]
  },
  {
   "cell_type": "code",
   "execution_count": 39,
   "id": "84c9bb47",
   "metadata": {},
   "outputs": [
    {
     "data": {
      "text/plain": [
       "Lagos       30000.0\n",
       "Abeokuta    23456.7\n",
       "Anambra     34567.8\n",
       "Osun        40000.0\n",
       "kogi         5678.0\n",
       "Delta           1.0\n",
       "Name: Nigeria's Population, dtype: float64"
      ]
     },
     "execution_count": 39,
     "metadata": {},
     "output_type": "execute_result"
    }
   ],
   "source": [
    "population.iloc[-3]=40000\n",
    "population"
   ]
  },
  {
   "cell_type": "code",
   "execution_count": null,
   "id": "0bb21c89",
   "metadata": {},
   "outputs": [],
   "source": []
  }
 ],
 "metadata": {
  "kernelspec": {
   "display_name": "Python 3",
   "language": "python",
   "name": "python3"
  },
  "language_info": {
   "codemirror_mode": {
    "name": "ipython",
    "version": 3
   },
   "file_extension": ".py",
   "mimetype": "text/x-python",
   "name": "python",
   "nbconvert_exporter": "python",
   "pygments_lexer": "ipython3",
   "version": "3.10.5"
  }
 },
 "nbformat": 4,
 "nbformat_minor": 5
}
