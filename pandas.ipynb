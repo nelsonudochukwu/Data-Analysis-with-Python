{
 "cells": [
  {
   "cell_type": "code",
   "execution_count": 1,
   "id": "4a639d57",
   "metadata": {},
   "outputs": [],
   "source": [
    "import pandas as pd\n",
    "import numpy as np"
   ]
  },
  {
   "cell_type": "code",
   "execution_count": 4,
   "id": "a87376c3",
   "metadata": {},
   "outputs": [],
   "source": [
    "population = pd.Series([12345.6, 23456.7, 34567.8, 45678.9, 5678,1])"
   ]
  },
  {
   "cell_type": "code",
   "execution_count": 5,
   "id": "48b3e946",
   "metadata": {},
   "outputs": [
    {
     "data": {
      "text/plain": [
       "0    12345.6\n",
       "1    23456.7\n",
       "2    34567.8\n",
       "3    45678.9\n",
       "4     5678.0\n",
       "5        1.0\n",
       "dtype: float64"
      ]
     },
     "execution_count": 5,
     "metadata": {},
     "output_type": "execute_result"
    }
   ],
   "source": [
    "population"
   ]
  },
  {
   "cell_type": "code",
   "execution_count": 8,
   "id": "c7b286d2",
   "metadata": {},
   "outputs": [
    {
     "data": {
      "text/plain": [
       "0    12345.6\n",
       "1    23456.7\n",
       "2    34567.8\n",
       "3    45678.9\n",
       "4     5678.0\n",
       "5        1.0\n",
       "Name: Nigeria's Population, dtype: float64"
      ]
     },
     "execution_count": 8,
     "metadata": {},
     "output_type": "execute_result"
    }
   ],
   "source": [
    "population.name = \"Nigeria's Population\"\n",
    "population"
   ]
  },
  {
   "cell_type": "code",
   "execution_count": 9,
   "id": "d9e67611",
   "metadata": {},
   "outputs": [
    {
     "data": {
      "text/plain": [
       "array([1.23456e+04, 2.34567e+04, 3.45678e+04, 4.56789e+04, 5.67800e+03,\n",
       "       1.00000e+00])"
      ]
     },
     "execution_count": 9,
     "metadata": {},
     "output_type": "execute_result"
    }
   ],
   "source": [
    "population.values"
   ]
  },
  {
   "cell_type": "code",
   "execution_count": 12,
   "id": "5b2ece8a",
   "metadata": {},
   "outputs": [
    {
     "data": {
      "text/plain": [
       "Lagos       12345.6\n",
       "Abeokuta    23456.7\n",
       "Anambra     34567.8\n",
       "Osun        45678.9\n",
       "kogi         5678.0\n",
       "Delta           1.0\n",
       "Name: Nigeria's Population, dtype: float64"
      ]
     },
     "execution_count": 12,
     "metadata": {},
     "output_type": "execute_result"
    }
   ],
   "source": [
    "population.index = [\"Lagos\", \"Abeokuta\", \"Anambra\", \"Osun\", \"kogi\", \"Delta\"]\n",
    "population"
   ]
  },
  {
   "cell_type": "code",
   "execution_count": null,
   "id": "8b3c4d72",
   "metadata": {},
   "outputs": [],
   "source": []
  }
 ],
 "metadata": {
  "kernelspec": {
   "display_name": "Python 3",
   "language": "python",
   "name": "python3"
  },
  "language_info": {
   "codemirror_mode": {
    "name": "ipython",
    "version": 3
   },
   "file_extension": ".py",
   "mimetype": "text/x-python",
   "name": "python",
   "nbconvert_exporter": "python",
   "pygments_lexer": "ipython3",
   "version": "3.10.5"
  }
 },
 "nbformat": 4,
 "nbformat_minor": 5
}
